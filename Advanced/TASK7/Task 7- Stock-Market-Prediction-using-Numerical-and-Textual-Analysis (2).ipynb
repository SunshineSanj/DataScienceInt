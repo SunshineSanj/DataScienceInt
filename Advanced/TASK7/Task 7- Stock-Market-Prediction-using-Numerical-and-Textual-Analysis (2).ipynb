{
 "cells": [
  {
   "cell_type": "markdown",
   "metadata": {},
   "source": [
    "# Stock Market Prediction using Numerical and Textual Analysis\n",
    "<img src= \"stock.png\">"
   ]
  },
  {
   "cell_type": "markdown",
   "metadata": {},
   "source": [
    "   ### Importing Important Libraries"
   ]
  },
  {
   "cell_type": "code",
   "execution_count": 1,
   "metadata": {},
   "outputs": [
    {
     "name": "stdout",
     "output_type": "stream",
     "text": [
      "Requirement already satisfied: pandas_datareader in /srv/conda/envs/notebook/lib/python3.7/site-packages (0.10.0)\n",
      "Requirement already satisfied: lxml in /srv/conda/envs/notebook/lib/python3.7/site-packages (from pandas_datareader) (4.6.3)\n",
      "Requirement already satisfied: requests>=2.19.0 in /srv/conda/envs/notebook/lib/python3.7/site-packages (from pandas_datareader) (2.26.0)\n",
      "Requirement already satisfied: pandas>=0.23 in /srv/conda/envs/notebook/lib/python3.7/site-packages (from pandas_datareader) (1.3.2)\n",
      "Requirement already satisfied: numpy>=1.17.3 in /srv/conda/envs/notebook/lib/python3.7/site-packages (from pandas>=0.23->pandas_datareader) (1.21.2)\n",
      "Requirement already satisfied: python-dateutil>=2.7.3 in /srv/conda/envs/notebook/lib/python3.7/site-packages (from pandas>=0.23->pandas_datareader) (2.8.2)\n",
      "Requirement already satisfied: pytz>=2017.3 in /srv/conda/envs/notebook/lib/python3.7/site-packages (from pandas>=0.23->pandas_datareader) (2021.1)\n",
      "Requirement already satisfied: six>=1.5 in /srv/conda/envs/notebook/lib/python3.7/site-packages (from python-dateutil>=2.7.3->pandas>=0.23->pandas_datareader) (1.16.0)\n",
      "Requirement already satisfied: idna<4,>=2.5 in /srv/conda/envs/notebook/lib/python3.7/site-packages (from requests>=2.19.0->pandas_datareader) (3.1)\n",
      "Requirement already satisfied: certifi>=2017.4.17 in /srv/conda/envs/notebook/lib/python3.7/site-packages (from requests>=2.19.0->pandas_datareader) (2021.5.30)\n",
      "Requirement already satisfied: charset-normalizer~=2.0.0 in /srv/conda/envs/notebook/lib/python3.7/site-packages (from requests>=2.19.0->pandas_datareader) (2.0.0)\n",
      "Requirement already satisfied: urllib3<1.27,>=1.21.1 in /srv/conda/envs/notebook/lib/python3.7/site-packages (from requests>=2.19.0->pandas_datareader) (1.26.6)\n",
      "Requirement already satisfied: statsmodels in /srv/conda/envs/notebook/lib/python3.7/site-packages (0.12.2)\n",
      "Requirement already satisfied: numpy>=1.15 in /srv/conda/envs/notebook/lib/python3.7/site-packages (from statsmodels) (1.21.2)\n",
      "Requirement already satisfied: pandas>=0.21 in /srv/conda/envs/notebook/lib/python3.7/site-packages (from statsmodels) (1.3.2)\n",
      "Requirement already satisfied: scipy>=1.1 in /srv/conda/envs/notebook/lib/python3.7/site-packages (from statsmodels) (1.7.1)\n",
      "Requirement already satisfied: patsy>=0.5 in /srv/conda/envs/notebook/lib/python3.7/site-packages (from statsmodels) (0.5.1)\n",
      "Requirement already satisfied: python-dateutil>=2.7.3 in /srv/conda/envs/notebook/lib/python3.7/site-packages (from pandas>=0.21->statsmodels) (2.8.2)\n",
      "Requirement already satisfied: pytz>=2017.3 in /srv/conda/envs/notebook/lib/python3.7/site-packages (from pandas>=0.21->statsmodels) (2021.1)\n",
      "Requirement already satisfied: six in /srv/conda/envs/notebook/lib/python3.7/site-packages (from patsy>=0.5->statsmodels) (1.16.0)\n",
      "Requirement already satisfied: plotly in /srv/conda/envs/notebook/lib/python3.7/site-packages (5.3.1)\n",
      "Requirement already satisfied: six in /srv/conda/envs/notebook/lib/python3.7/site-packages (from plotly) (1.16.0)\n",
      "Requirement already satisfied: tenacity>=6.2.0 in /srv/conda/envs/notebook/lib/python3.7/site-packages (from plotly) (8.0.1)\n",
      "Requirement already satisfied: textblob in /srv/conda/envs/notebook/lib/python3.7/site-packages (0.15.3)\n",
      "Requirement already satisfied: nltk>=3.1 in /srv/conda/envs/notebook/lib/python3.7/site-packages (from textblob) (3.6.3)\n",
      "Requirement already satisfied: click in /srv/conda/envs/notebook/lib/python3.7/site-packages (from nltk>=3.1->textblob) (8.0.1)\n",
      "Requirement already satisfied: joblib in /srv/conda/envs/notebook/lib/python3.7/site-packages (from nltk>=3.1->textblob) (1.0.1)\n",
      "Requirement already satisfied: regex in /srv/conda/envs/notebook/lib/python3.7/site-packages (from nltk>=3.1->textblob) (2021.9.24)\n",
      "Requirement already satisfied: tqdm in /srv/conda/envs/notebook/lib/python3.7/site-packages (from nltk>=3.1->textblob) (4.62.3)\n",
      "Requirement already satisfied: importlib-metadata in /srv/conda/envs/notebook/lib/python3.7/site-packages (from click->nltk>=3.1->textblob) (4.6.3)\n",
      "Requirement already satisfied: typing-extensions>=3.6.4 in /srv/conda/envs/notebook/lib/python3.7/site-packages (from importlib-metadata->click->nltk>=3.1->textblob) (3.10.0.0)\n",
      "Requirement already satisfied: zipp>=0.5 in /srv/conda/envs/notebook/lib/python3.7/site-packages (from importlib-metadata->click->nltk>=3.1->textblob) (3.5.0)\n",
      "Requirement already satisfied: xgboost in /srv/conda/envs/notebook/lib/python3.7/site-packages (1.4.2)\n",
      "Requirement already satisfied: numpy in /srv/conda/envs/notebook/lib/python3.7/site-packages (from xgboost) (1.21.2)\n",
      "Requirement already satisfied: scipy in /srv/conda/envs/notebook/lib/python3.7/site-packages (from xgboost) (1.7.1)\n",
      "Requirement already satisfied: matplotlib in /srv/conda/envs/notebook/lib/python3.7/site-packages (3.1.3)\n",
      "Requirement already satisfied: kiwisolver>=1.0.1 in /srv/conda/envs/notebook/lib/python3.7/site-packages (from matplotlib) (1.3.2)\n",
      "Requirement already satisfied: python-dateutil>=2.1 in /srv/conda/envs/notebook/lib/python3.7/site-packages (from matplotlib) (2.8.2)\n",
      "Requirement already satisfied: cycler>=0.10 in /srv/conda/envs/notebook/lib/python3.7/site-packages (from matplotlib) (0.10.0)\n",
      "Requirement already satisfied: numpy>=1.11 in /srv/conda/envs/notebook/lib/python3.7/site-packages (from matplotlib) (1.21.2)\n",
      "Requirement already satisfied: pyparsing!=2.0.4,!=2.1.2,!=2.1.6,>=2.0.1 in /srv/conda/envs/notebook/lib/python3.7/site-packages (from matplotlib) (2.4.7)\n",
      "Requirement already satisfied: six in /srv/conda/envs/notebook/lib/python3.7/site-packages (from cycler>=0.10->matplotlib) (1.16.0)\n",
      "Requirement already satisfied: lightgbm in /srv/conda/envs/notebook/lib/python3.7/site-packages (3.2.1)\n",
      "Requirement already satisfied: wheel in /srv/conda/envs/notebook/lib/python3.7/site-packages (from lightgbm) (0.36.2)\n",
      "Requirement already satisfied: scipy in /srv/conda/envs/notebook/lib/python3.7/site-packages (from lightgbm) (1.7.1)\n",
      "Requirement already satisfied: scikit-learn!=0.22.0 in /srv/conda/envs/notebook/lib/python3.7/site-packages (from lightgbm) (1.0)\n",
      "Requirement already satisfied: numpy in /srv/conda/envs/notebook/lib/python3.7/site-packages (from lightgbm) (1.21.2)\n",
      "Requirement already satisfied: threadpoolctl>=2.0.0 in /srv/conda/envs/notebook/lib/python3.7/site-packages (from scikit-learn!=0.22.0->lightgbm) (2.2.0)\n",
      "Requirement already satisfied: joblib>=0.11 in /srv/conda/envs/notebook/lib/python3.7/site-packages (from scikit-learn!=0.22.0->lightgbm) (1.0.1)\n",
      "Requirement already satisfied: nltk in /srv/conda/envs/notebook/lib/python3.7/site-packages (3.6.3)\n",
      "Requirement already satisfied: regex in /srv/conda/envs/notebook/lib/python3.7/site-packages (from nltk) (2021.9.24)\n",
      "Requirement already satisfied: click in /srv/conda/envs/notebook/lib/python3.7/site-packages (from nltk) (8.0.1)\n",
      "Requirement already satisfied: tqdm in /srv/conda/envs/notebook/lib/python3.7/site-packages (from nltk) (4.62.3)\n",
      "Requirement already satisfied: joblib in /srv/conda/envs/notebook/lib/python3.7/site-packages (from nltk) (1.0.1)\n",
      "Requirement already satisfied: importlib-metadata in /srv/conda/envs/notebook/lib/python3.7/site-packages (from click->nltk) (4.6.3)\n",
      "Requirement already satisfied: zipp>=0.5 in /srv/conda/envs/notebook/lib/python3.7/site-packages (from importlib-metadata->click->nltk) (3.5.0)\n",
      "Requirement already satisfied: typing-extensions>=3.6.4 in /srv/conda/envs/notebook/lib/python3.7/site-packages (from importlib-metadata->click->nltk) (3.10.0.0)\n",
      "Requirement already satisfied: wordcloud in /srv/conda/envs/notebook/lib/python3.7/site-packages (1.8.1)\n",
      "Requirement already satisfied: matplotlib in /srv/conda/envs/notebook/lib/python3.7/site-packages (from wordcloud) (3.1.3)\n",
      "Requirement already satisfied: pillow in /srv/conda/envs/notebook/lib/python3.7/site-packages (from wordcloud) (8.3.1)\n",
      "Requirement already satisfied: numpy>=1.6.1 in /srv/conda/envs/notebook/lib/python3.7/site-packages (from wordcloud) (1.21.2)\n",
      "Requirement already satisfied: cycler>=0.10 in /srv/conda/envs/notebook/lib/python3.7/site-packages (from matplotlib->wordcloud) (0.10.0)\n",
      "Requirement already satisfied: pyparsing!=2.0.4,!=2.1.2,!=2.1.6,>=2.0.1 in /srv/conda/envs/notebook/lib/python3.7/site-packages (from matplotlib->wordcloud) (2.4.7)\n",
      "Requirement already satisfied: kiwisolver>=1.0.1 in /srv/conda/envs/notebook/lib/python3.7/site-packages (from matplotlib->wordcloud) (1.3.2)\n",
      "Requirement already satisfied: python-dateutil>=2.1 in /srv/conda/envs/notebook/lib/python3.7/site-packages (from matplotlib->wordcloud) (2.8.2)\n",
      "Requirement already satisfied: six in /srv/conda/envs/notebook/lib/python3.7/site-packages (from cycler>=0.10->matplotlib->wordcloud) (1.16.0)\n"
     ]
    }
   ],
   "source": [
    "!pip install pandas_datareader\n",
    "!pip install statsmodels\n",
    "!pip install plotly\n",
    "!pip install textblob\n",
    "!pip install xgboost\n",
    "!pip install matplotlib\n",
    "!pip install lightgbm\n",
    "!pip install nltk\n",
    "!pip install wordcloud\n",
    "import pandas as pd\n",
    "import numpy as np\n",
    "import matplotlib.pyplot as plt\n",
    "import pylab as pl\n",
    "%matplotlib inline\n",
    "import seaborn as sns\n",
    "import datetime\n",
    "import pandas_datareader.data as web\n",
    "import matplotlib as mpl\n",
    "from matplotlib import style\n",
    "import warnings\n",
    "warnings.simplefilter(action='ignore', category=FutureWarning)\n",
    "warnings.filterwarnings('ignore')\n",
    "from statsmodels.tsa.stattools import adfuller, acf, pacf\n",
    "from statsmodels.tsa.arima_model import ARIMA\n",
    "from sklearn.metrics import mean_squared_error, mean_absolute_error,r2_score\n",
    "from statsmodels.tsa.seasonal import seasonal_decompose\n",
    "from textblob import TextBlob\n",
    "from matplotlib.pyplot import figure\n",
    "from matplotlib import rcParams\n",
    "import plotly.express as px\n",
    "from wordcloud import WordCloud, STOPWORDS\n",
    "from nltk.sentiment.vader import SentimentIntensityAnalyzer\n",
    "import nltk\n",
    "from sklearn.tree import DecisionTreeRegressor\n",
    "from sklearn.ensemble import RandomForestRegressor, AdaBoostRegressor\n",
    "import xgboost \n",
    "import lightgbm"
   ]
  },
  {
   "cell_type": "markdown",
   "metadata": {},
   "source": [
    "### Importing Web Dataset"
   ]
  },
  {
   "cell_type": "code",
   "execution_count": 2,
   "metadata": {},
   "outputs": [],
   "source": [
    "start = datetime.datetime(2010, 1, 1)\n",
    "end = datetime.datetime.today()"
   ]
  },
  {
   "cell_type": "code",
   "execution_count": 3,
   "metadata": {},
   "outputs": [],
   "source": [
    "stocks = web.DataReader(\"AAPL\", 'yahoo', start, end)"
   ]
  },
  {
   "cell_type": "code",
   "execution_count": 4,
   "metadata": {},
   "outputs": [
    {
     "name": "stdout",
     "output_type": "stream",
     "text": [
      "<class 'pandas.core.frame.DataFrame'>\n",
      "DatetimeIndex: 2953 entries, 2010-01-04 to 2021-09-24\n",
      "Data columns (total 6 columns):\n",
      " #   Column     Non-Null Count  Dtype  \n",
      "---  ------     --------------  -----  \n",
      " 0   High       2953 non-null   float64\n",
      " 1   Low        2953 non-null   float64\n",
      " 2   Open       2953 non-null   float64\n",
      " 3   Close      2953 non-null   float64\n",
      " 4   Volume     2953 non-null   float64\n",
      " 5   Adj Close  2953 non-null   float64\n",
      "dtypes: float64(6)\n",
      "memory usage: 161.5 KB\n"
     ]
    }
   ],
   "source": [
    "stocks.info()"
   ]
  },
  {
   "cell_type": "code",
   "execution_count": 5,
   "metadata": {},
   "outputs": [
    {
     "data": {
      "text/html": [
       "<div>\n",
       "<style scoped>\n",
       "    .dataframe tbody tr th:only-of-type {\n",
       "        vertical-align: middle;\n",
       "    }\n",
       "\n",
       "    .dataframe tbody tr th {\n",
       "        vertical-align: top;\n",
       "    }\n",
       "\n",
       "    .dataframe thead th {\n",
       "        text-align: right;\n",
       "    }\n",
       "</style>\n",
       "<table border=\"1\" class=\"dataframe\">\n",
       "  <thead>\n",
       "    <tr style=\"text-align: right;\">\n",
       "      <th></th>\n",
       "      <th>High</th>\n",
       "      <th>Low</th>\n",
       "      <th>Open</th>\n",
       "      <th>Close</th>\n",
       "      <th>Volume</th>\n",
       "      <th>Adj Close</th>\n",
       "    </tr>\n",
       "    <tr>\n",
       "      <th>Date</th>\n",
       "      <th></th>\n",
       "      <th></th>\n",
       "      <th></th>\n",
       "      <th></th>\n",
       "      <th></th>\n",
       "      <th></th>\n",
       "    </tr>\n",
       "  </thead>\n",
       "  <tbody>\n",
       "    <tr>\n",
       "      <th>2010-01-04</th>\n",
       "      <td>7.660714</td>\n",
       "      <td>7.585000</td>\n",
       "      <td>7.622500</td>\n",
       "      <td>7.643214</td>\n",
       "      <td>493729600.0</td>\n",
       "      <td>6.562591</td>\n",
       "    </tr>\n",
       "    <tr>\n",
       "      <th>2010-01-05</th>\n",
       "      <td>7.699643</td>\n",
       "      <td>7.616071</td>\n",
       "      <td>7.664286</td>\n",
       "      <td>7.656429</td>\n",
       "      <td>601904800.0</td>\n",
       "      <td>6.573935</td>\n",
       "    </tr>\n",
       "    <tr>\n",
       "      <th>2010-01-06</th>\n",
       "      <td>7.686786</td>\n",
       "      <td>7.526786</td>\n",
       "      <td>7.656429</td>\n",
       "      <td>7.534643</td>\n",
       "      <td>552160000.0</td>\n",
       "      <td>6.469369</td>\n",
       "    </tr>\n",
       "    <tr>\n",
       "      <th>2010-01-07</th>\n",
       "      <td>7.571429</td>\n",
       "      <td>7.466071</td>\n",
       "      <td>7.562500</td>\n",
       "      <td>7.520714</td>\n",
       "      <td>477131200.0</td>\n",
       "      <td>6.457407</td>\n",
       "    </tr>\n",
       "    <tr>\n",
       "      <th>2010-01-08</th>\n",
       "      <td>7.571429</td>\n",
       "      <td>7.466429</td>\n",
       "      <td>7.510714</td>\n",
       "      <td>7.570714</td>\n",
       "      <td>447610800.0</td>\n",
       "      <td>6.500339</td>\n",
       "    </tr>\n",
       "    <tr>\n",
       "      <th>...</th>\n",
       "      <td>...</td>\n",
       "      <td>...</td>\n",
       "      <td>...</td>\n",
       "      <td>...</td>\n",
       "      <td>...</td>\n",
       "      <td>...</td>\n",
       "    </tr>\n",
       "    <tr>\n",
       "      <th>2021-09-13</th>\n",
       "      <td>151.419998</td>\n",
       "      <td>148.750000</td>\n",
       "      <td>150.630005</td>\n",
       "      <td>149.550003</td>\n",
       "      <td>102404300.0</td>\n",
       "      <td>149.550003</td>\n",
       "    </tr>\n",
       "    <tr>\n",
       "      <th>2021-09-14</th>\n",
       "      <td>151.070007</td>\n",
       "      <td>146.910004</td>\n",
       "      <td>150.350006</td>\n",
       "      <td>148.119995</td>\n",
       "      <td>109296300.0</td>\n",
       "      <td>148.119995</td>\n",
       "    </tr>\n",
       "    <tr>\n",
       "      <th>2021-09-15</th>\n",
       "      <td>149.440002</td>\n",
       "      <td>146.369995</td>\n",
       "      <td>148.559998</td>\n",
       "      <td>149.029999</td>\n",
       "      <td>83281300.0</td>\n",
       "      <td>149.029999</td>\n",
       "    </tr>\n",
       "    <tr>\n",
       "      <th>2021-09-16</th>\n",
       "      <td>148.970001</td>\n",
       "      <td>147.220001</td>\n",
       "      <td>148.440002</td>\n",
       "      <td>148.789993</td>\n",
       "      <td>68034100.0</td>\n",
       "      <td>148.789993</td>\n",
       "    </tr>\n",
       "    <tr>\n",
       "      <th>2021-09-17</th>\n",
       "      <td>148.820007</td>\n",
       "      <td>145.759995</td>\n",
       "      <td>148.820007</td>\n",
       "      <td>146.059998</td>\n",
       "      <td>129728700.0</td>\n",
       "      <td>146.059998</td>\n",
       "    </tr>\n",
       "  </tbody>\n",
       "</table>\n",
       "<p>2948 rows × 6 columns</p>\n",
       "</div>"
      ],
      "text/plain": [
       "                  High         Low        Open       Close       Volume  \\\n",
       "Date                                                                      \n",
       "2010-01-04    7.660714    7.585000    7.622500    7.643214  493729600.0   \n",
       "2010-01-05    7.699643    7.616071    7.664286    7.656429  601904800.0   \n",
       "2010-01-06    7.686786    7.526786    7.656429    7.534643  552160000.0   \n",
       "2010-01-07    7.571429    7.466071    7.562500    7.520714  477131200.0   \n",
       "2010-01-08    7.571429    7.466429    7.510714    7.570714  447610800.0   \n",
       "...                ...         ...         ...         ...          ...   \n",
       "2021-09-13  151.419998  148.750000  150.630005  149.550003  102404300.0   \n",
       "2021-09-14  151.070007  146.910004  150.350006  148.119995  109296300.0   \n",
       "2021-09-15  149.440002  146.369995  148.559998  149.029999   83281300.0   \n",
       "2021-09-16  148.970001  147.220001  148.440002  148.789993   68034100.0   \n",
       "2021-09-17  148.820007  145.759995  148.820007  146.059998  129728700.0   \n",
       "\n",
       "             Adj Close  \n",
       "Date                    \n",
       "2010-01-04    6.562591  \n",
       "2010-01-05    6.573935  \n",
       "2010-01-06    6.469369  \n",
       "2010-01-07    6.457407  \n",
       "2010-01-08    6.500339  \n",
       "...                ...  \n",
       "2021-09-13  149.550003  \n",
       "2021-09-14  148.119995  \n",
       "2021-09-15  149.029999  \n",
       "2021-09-16  148.789993  \n",
       "2021-09-17  146.059998  \n",
       "\n",
       "[2948 rows x 6 columns]"
      ]
     },
     "execution_count": 5,
     "metadata": {},
     "output_type": "execute_result"
    }
   ],
   "source": [
    "stocks.head(-5)"
   ]
  },
  {
   "cell_type": "code",
   "execution_count": 6,
   "metadata": {},
   "outputs": [],
   "source": [
    "stocks.reset_index(inplace=True)"
   ]
  },
  {
   "cell_type": "code",
   "execution_count": 7,
   "metadata": {},
   "outputs": [
    {
     "data": {
      "text/plain": [
       "(2953, 7)"
      ]
     },
     "execution_count": 7,
     "metadata": {},
     "output_type": "execute_result"
    }
   ],
   "source": [
    "stocks.shape"
   ]
  },
  {
   "cell_type": "code",
   "execution_count": 8,
   "metadata": {},
   "outputs": [
    {
     "data": {
      "text/html": [
       "<div>\n",
       "<style scoped>\n",
       "    .dataframe tbody tr th:only-of-type {\n",
       "        vertical-align: middle;\n",
       "    }\n",
       "\n",
       "    .dataframe tbody tr th {\n",
       "        vertical-align: top;\n",
       "    }\n",
       "\n",
       "    .dataframe thead th {\n",
       "        text-align: right;\n",
       "    }\n",
       "</style>\n",
       "<table border=\"1\" class=\"dataframe\">\n",
       "  <thead>\n",
       "    <tr style=\"text-align: right;\">\n",
       "      <th></th>\n",
       "      <th>High</th>\n",
       "      <th>Low</th>\n",
       "      <th>Open</th>\n",
       "      <th>Close</th>\n",
       "      <th>Volume</th>\n",
       "      <th>Adj Close</th>\n",
       "    </tr>\n",
       "  </thead>\n",
       "  <tbody>\n",
       "    <tr>\n",
       "      <th>count</th>\n",
       "      <td>2953.000000</td>\n",
       "      <td>2953.000000</td>\n",
       "      <td>2953.000000</td>\n",
       "      <td>2953.000000</td>\n",
       "      <td>2.953000e+03</td>\n",
       "      <td>2953.000000</td>\n",
       "    </tr>\n",
       "    <tr>\n",
       "      <th>mean</th>\n",
       "      <td>40.484261</td>\n",
       "      <td>39.656563</td>\n",
       "      <td>40.073279</td>\n",
       "      <td>40.085790</td>\n",
       "      <td>2.744339e+08</td>\n",
       "      <td>38.372814</td>\n",
       "    </tr>\n",
       "    <tr>\n",
       "      <th>std</th>\n",
       "      <td>34.614089</td>\n",
       "      <td>33.808450</td>\n",
       "      <td>34.220235</td>\n",
       "      <td>34.226603</td>\n",
       "      <td>2.267849e+08</td>\n",
       "      <td>34.733595</td>\n",
       "    </tr>\n",
       "    <tr>\n",
       "      <th>min</th>\n",
       "      <td>7.000000</td>\n",
       "      <td>6.794643</td>\n",
       "      <td>6.870357</td>\n",
       "      <td>6.858929</td>\n",
       "      <td>4.544800e+07</td>\n",
       "      <td>5.889189</td>\n",
       "    </tr>\n",
       "    <tr>\n",
       "      <th>25%</th>\n",
       "      <td>18.392857</td>\n",
       "      <td>18.027500</td>\n",
       "      <td>18.216429</td>\n",
       "      <td>18.303213</td>\n",
       "      <td>1.118507e+08</td>\n",
       "      <td>15.934508</td>\n",
       "    </tr>\n",
       "    <tr>\n",
       "      <th>50%</th>\n",
       "      <td>28.162500</td>\n",
       "      <td>27.580000</td>\n",
       "      <td>27.937500</td>\n",
       "      <td>27.947500</td>\n",
       "      <td>1.882156e+08</td>\n",
       "      <td>25.820272</td>\n",
       "    </tr>\n",
       "    <tr>\n",
       "      <th>75%</th>\n",
       "      <td>47.209999</td>\n",
       "      <td>46.447498</td>\n",
       "      <td>46.805000</td>\n",
       "      <td>46.840000</td>\n",
       "      <td>3.759280e+08</td>\n",
       "      <td>45.401474</td>\n",
       "    </tr>\n",
       "    <tr>\n",
       "      <th>max</th>\n",
       "      <td>157.259995</td>\n",
       "      <td>154.389999</td>\n",
       "      <td>156.979996</td>\n",
       "      <td>156.690002</td>\n",
       "      <td>1.880998e+09</td>\n",
       "      <td>156.690002</td>\n",
       "    </tr>\n",
       "  </tbody>\n",
       "</table>\n",
       "</div>"
      ],
      "text/plain": [
       "              High          Low         Open        Close        Volume  \\\n",
       "count  2953.000000  2953.000000  2953.000000  2953.000000  2.953000e+03   \n",
       "mean     40.484261    39.656563    40.073279    40.085790  2.744339e+08   \n",
       "std      34.614089    33.808450    34.220235    34.226603  2.267849e+08   \n",
       "min       7.000000     6.794643     6.870357     6.858929  4.544800e+07   \n",
       "25%      18.392857    18.027500    18.216429    18.303213  1.118507e+08   \n",
       "50%      28.162500    27.580000    27.937500    27.947500  1.882156e+08   \n",
       "75%      47.209999    46.447498    46.805000    46.840000  3.759280e+08   \n",
       "max     157.259995   154.389999   156.979996   156.690002  1.880998e+09   \n",
       "\n",
       "         Adj Close  \n",
       "count  2953.000000  \n",
       "mean     38.372814  \n",
       "std      34.733595  \n",
       "min       5.889189  \n",
       "25%      15.934508  \n",
       "50%      25.820272  \n",
       "75%      45.401474  \n",
       "max     156.690002  "
      ]
     },
     "execution_count": 8,
     "metadata": {},
     "output_type": "execute_result"
    }
   ],
   "source": [
    "stocks.describe()"
   ]
  },
  {
   "cell_type": "markdown",
   "metadata": {},
   "source": [
    "### Data Preprocessing"
   ]
  },
  {
   "cell_type": "code",
   "execution_count": 9,
   "metadata": {},
   "outputs": [
    {
     "data": {
      "text/html": [
       "<div>\n",
       "<style scoped>\n",
       "    .dataframe tbody tr th:only-of-type {\n",
       "        vertical-align: middle;\n",
       "    }\n",
       "\n",
       "    .dataframe tbody tr th {\n",
       "        vertical-align: top;\n",
       "    }\n",
       "\n",
       "    .dataframe thead th {\n",
       "        text-align: right;\n",
       "    }\n",
       "</style>\n",
       "<table border=\"1\" class=\"dataframe\">\n",
       "  <thead>\n",
       "    <tr style=\"text-align: right;\">\n",
       "      <th></th>\n",
       "      <th>Date</th>\n",
       "      <th>High</th>\n",
       "      <th>Low</th>\n",
       "      <th>Open</th>\n",
       "      <th>Close</th>\n",
       "      <th>Volume</th>\n",
       "      <th>Adj Close</th>\n",
       "    </tr>\n",
       "  </thead>\n",
       "  <tbody>\n",
       "    <tr>\n",
       "      <th>0</th>\n",
       "      <td>2010-01-04</td>\n",
       "      <td>7.660714</td>\n",
       "      <td>7.585000</td>\n",
       "      <td>7.622500</td>\n",
       "      <td>7.643214</td>\n",
       "      <td>493729600.0</td>\n",
       "      <td>6.562591</td>\n",
       "    </tr>\n",
       "    <tr>\n",
       "      <th>1</th>\n",
       "      <td>2010-01-05</td>\n",
       "      <td>7.699643</td>\n",
       "      <td>7.616071</td>\n",
       "      <td>7.664286</td>\n",
       "      <td>7.656429</td>\n",
       "      <td>601904800.0</td>\n",
       "      <td>6.573935</td>\n",
       "    </tr>\n",
       "    <tr>\n",
       "      <th>2</th>\n",
       "      <td>2010-01-06</td>\n",
       "      <td>7.686786</td>\n",
       "      <td>7.526786</td>\n",
       "      <td>7.656429</td>\n",
       "      <td>7.534643</td>\n",
       "      <td>552160000.0</td>\n",
       "      <td>6.469369</td>\n",
       "    </tr>\n",
       "    <tr>\n",
       "      <th>3</th>\n",
       "      <td>2010-01-07</td>\n",
       "      <td>7.571429</td>\n",
       "      <td>7.466071</td>\n",
       "      <td>7.562500</td>\n",
       "      <td>7.520714</td>\n",
       "      <td>477131200.0</td>\n",
       "      <td>6.457407</td>\n",
       "    </tr>\n",
       "    <tr>\n",
       "      <th>4</th>\n",
       "      <td>2010-01-08</td>\n",
       "      <td>7.571429</td>\n",
       "      <td>7.466429</td>\n",
       "      <td>7.510714</td>\n",
       "      <td>7.570714</td>\n",
       "      <td>447610800.0</td>\n",
       "      <td>6.500339</td>\n",
       "    </tr>\n",
       "  </tbody>\n",
       "</table>\n",
       "</div>"
      ],
      "text/plain": [
       "        Date      High       Low      Open     Close       Volume  Adj Close\n",
       "0 2010-01-04  7.660714  7.585000  7.622500  7.643214  493729600.0   6.562591\n",
       "1 2010-01-05  7.699643  7.616071  7.664286  7.656429  601904800.0   6.573935\n",
       "2 2010-01-06  7.686786  7.526786  7.656429  7.534643  552160000.0   6.469369\n",
       "3 2010-01-07  7.571429  7.466071  7.562500  7.520714  477131200.0   6.457407\n",
       "4 2010-01-08  7.571429  7.466429  7.510714  7.570714  447610800.0   6.500339"
      ]
     },
     "execution_count": 9,
     "metadata": {},
     "output_type": "execute_result"
    }
   ],
   "source": [
    "stocks['Date'] = pd.to_datetime(stocks['Date'])\n",
    "stocks.head()"
   ]
  },
  {
   "cell_type": "code",
   "execution_count": 10,
   "metadata": {},
   "outputs": [
    {
     "data": {
      "text/plain": [
       "Date         0\n",
       "High         0\n",
       "Low          0\n",
       "Open         0\n",
       "Close        0\n",
       "Volume       0\n",
       "Adj Close    0\n",
       "dtype: int64"
      ]
     },
     "execution_count": 10,
     "metadata": {},
     "output_type": "execute_result"
    }
   ],
   "source": [
    "stocks.isna().sum()"
   ]
  },
  {
   "cell_type": "markdown",
   "metadata": {},
   "source": [
    "### Data Visualization\n",
    "#### Closing Price of Stocks"
   ]
  },
  {
   "cell_type": "code",
   "execution_count": 11,
   "metadata": {},
   "outputs": [
    {
     "data": {
      "image/png": "[encoded data removed]",
      "text/plain": [
       "<Figure size 1080x360 with 1 Axes>"
      ]
     },
     "metadata": {
      "needs_background": "light"
     },
     "output_type": "display_data"
    }
   ],
   "source": [
    "plt.figure(figsize=(15,5))\n",
    "plt.title('Closing Price of Stocks')\n",
    "plt.xlabel('Days')\n",
    "plt.ylabel('Close')\n",
    "plt.plot(stocks['Close'], color='r')\n",
    "plt.grid('True')\n",
    "plt.show()"
   ]
  },
  {
   "cell_type": "markdown",
   "metadata": {},
   "source": [
    "#### Opening Price of Stocks"
   ]
  },
  {
   "cell_type": "code",
   "execution_count": 12,
   "metadata": {},
   "outputs": [
    {
     "data": {
      "image/png": "[encoded data removed]",
      "text/plain": [
       "<Figure size 1080x360 with 1 Axes>"
      ]
     },
     "metadata": {
      "needs_background": "light"
     },
     "output_type": "display_data"
    }
   ],
   "source": [
    "plt.figure(figsize=(15,5))\n",
    "plt.grid(True)\n",
    "plt.plot(stocks['Open'], color='g')\n",
    "plt.xlabel('Days')\n",
    "plt.ylabel('Open Price')\n",
    "plt.title('Opening price of Stocks')\n",
    "plt.show()"
   ]
  },
  {
   "cell_type": "markdown",
   "metadata": {},
   "source": [
    "#### Stock Returns"
   ]
  },
  {
   "cell_type": "code",
   "execution_count": 13,
   "metadata": {},
   "outputs": [
    {
     "data": {
      "text/plain": [
       "<matplotlib.axes._subplots.AxesSubplot at 0x7fe3e6530510>"
      ]
     },
     "execution_count": 13,
     "metadata": {},
     "output_type": "execute_result"
    },
    {
     "data": {
      "image/png": "[encoded data removed]",
      "text/plain": [
       "<Figure size 1080x360 with 1 Axes>"
      ]
     },
     "metadata": {
      "needs_background": "light"
     },
     "output_type": "display_data"
    }
   ],
   "source": [
    "close = stocks['Close']\n",
    "returns = close / close.shift(1) - 1\n",
    "plt.figure(figsize = (15,5))\n",
    "plt.title(\"Stock Returns\")\n",
    "returns.plot(label='Return', color = 'y')"
   ]
  },
  {
   "cell_type": "markdown",
   "metadata": {},
   "source": [
    "### Dividing data into train and test set"
   ]
  },
  {
   "cell_type": "code",
   "execution_count": 14,
   "metadata": {},
   "outputs": [],
   "source": [
    "train = stocks[:2064]\n",
    "test = stocks[2064:]"
   ]
  },
  {
   "cell_type": "code",
   "execution_count": 15,
   "metadata": {},
   "outputs": [
    {
     "data": {
      "text/plain": [
       "((2064, 7), (889, 7))"
      ]
     },
     "execution_count": 15,
     "metadata": {},
     "output_type": "execute_result"
    }
   ],
   "source": [
    "train.shape, test.shape"
   ]
  },
  {
   "cell_type": "markdown",
   "metadata": {},
   "source": [
    "### Dickey-Fuller test"
   ]
  },
  {
   "cell_type": "code",
   "execution_count": 16,
   "metadata": {},
   "outputs": [],
   "source": [
    "def adfullerTest(X):\n",
    "    result = adfuller(X,autolag = 'AIC')\n",
    "    print('ADF Statistic: %f' % result[0])\n",
    "    print('p-value: %f' % result[1])\n",
    "    print('No of Lags Used: %f' % result[2])\n",
    "    print('Number of Obs Used: %f' % result[3])\n",
    "    print('Critical Values:')\n",
    "    for key, value in result[4].items():\n",
    "        print('\\t%s: %.3f' % (key, value))\n",
    "    if result[1] <=0.05 :\n",
    "         print(\"Reject against the null hypothesis, time series is stationary\")\n",
    "    else:\n",
    "        print(\"Accept null hypothesis, time series is non-stationary \") "
   ]
  },
  {
   "cell_type": "code",
   "execution_count": 17,
   "metadata": {},
   "outputs": [
    {
     "name": "stdout",
     "output_type": "stream",
     "text": [
      "ADF Statistic: 0.022913\n",
      "p-value: 0.960386\n",
      "No of Lags Used: 11.000000\n",
      "Number of Obs Used: 2052.000000\n",
      "Critical Values:\n",
      "\t1%: -3.434\n",
      "\t5%: -2.863\n",
      "\t10%: -2.568\n",
      "Accept null hypothesis, time series is non-stationary \n"
     ]
    }
   ],
   "source": [
    "adfullerTest(train['Close'])"
   ]
  },
  {
   "cell_type": "markdown",
   "metadata": {},
   "source": [
    "#### Rolling Mean & SD"
   ]
  },
  {
   "cell_type": "code",
   "execution_count": 18,
   "metadata": {},
   "outputs": [
    {
     "data": {
      "text/plain": [
       "<matplotlib.legend.Legend at 0x7fe3e56907d0>"
      ]
     },
     "execution_count": 18,
     "metadata": {},
     "output_type": "execute_result"
    },
    {
     "data": {
      "image/png": "[encoded data removed]",
      "text/plain": [
       "<Figure size 1080x360 with 1 Axes>"
      ]
     },
     "metadata": {
      "needs_background": "light"
     },
     "output_type": "display_data"
    }
   ],
   "source": [
    "rolling_mean_50 = (train['Close']).rolling(window=50).mean()\n",
    "rolling_std_50 = (train['Close']).rolling(window=50).std()\n",
    "plt.figure(figsize = (15,5))\n",
    "plt.plot((train['Close']), label = 'original')\n",
    "plt.plot(rolling_mean_50, label = 'rolling mean 50')\n",
    "plt.plot(rolling_std_50, label = 'rolling std 50')\n",
    "plt.title('Mean and Standard Deviation on  transformed data')\n",
    "plt.xlabel('Time')\n",
    "plt.grid('True')\n",
    "plt.legend()"
   ]
  },
  {
   "cell_type": "markdown",
   "metadata": {},
   "source": [
    "#### Log Transfromation"
   ]
  },
  {
   "cell_type": "code",
   "execution_count": 19,
   "metadata": {},
   "outputs": [],
   "source": [
    "train_log = np.log(train['Close']) \n",
    "test_log = np.log(test['Close'])"
   ]
  },
  {
   "cell_type": "code",
   "execution_count": 20,
   "metadata": {},
   "outputs": [
    {
     "name": "stdout",
     "output_type": "stream",
     "text": [
      "ADF Statistic: -1.664936\n",
      "p-value: 0.449263\n",
      "No of Lags Used: 13.000000\n",
      "Number of Obs Used: 2050.000000\n",
      "Critical Values:\n",
      "\t1%: -3.434\n",
      "\t5%: -2.863\n",
      "\t10%: -2.568\n",
      "Accept null hypothesis, time series is non-stationary \n"
     ]
    }
   ],
   "source": [
    "from numpy import log\n",
    "adfullerTest(log(train['Close']))"
   ]
  },
  {
   "cell_type": "code",
   "execution_count": 21,
   "metadata": {},
   "outputs": [
    {
     "data": {
      "text/plain": [
       "Text(0.5, 1.0, 'Mean and Standard Deviation on Log transformed data')"
      ]
     },
     "execution_count": 21,
     "metadata": {},
     "output_type": "execute_result"
    },
    {
     "data": {
      "image/png": "[encoded data removed]",
      "text/plain": [
       "<Figure size 1080x360 with 1 Axes>"
      ]
     },
     "metadata": {
      "needs_background": "light"
     },
     "output_type": "display_data"
    }
   ],
   "source": [
    "rolling_mean_50 = log(train['Close']).rolling(window=50).mean()\n",
    "rolling_std_50 = log(train['Close']).rolling(window=50).std()\n",
    "plt.figure(figsize = (15,5))\n",
    "plt.plot(log(train['Close']), label = 'Log Transformed')\n",
    "plt.plot(rolling_mean_50, label = 'rolling mean 50')\n",
    "plt.plot(rolling_std_50, label = 'rolling std 50')\n",
    "plt.xlabel('Time')\n",
    "plt.grid('True')\n",
    "plt.legend()\n",
    "plt.title('Mean and Standard Deviation on Log transformed data')"
   ]
  },
  {
   "cell_type": "markdown",
   "metadata": {},
   "source": [
    "####  First difference transformation of series to remove the linear trend"
   ]
  },
  {
   "cell_type": "code",
   "execution_count": 22,
   "metadata": {},
   "outputs": [],
   "source": [
    "mean_log = log(train['Close']).rolling(50).mean()"
   ]
  },
  {
   "cell_type": "code",
   "execution_count": 23,
   "metadata": {},
   "outputs": [
    {
     "name": "stdout",
     "output_type": "stream",
     "text": [
      "ADF Statistic: -6.016431\n",
      "p-value: 0.000000\n",
      "No of Lags Used: 14.000000\n",
      "Number of Obs Used: 2000.000000\n",
      "Critical Values:\n",
      "\t1%: -3.434\n",
      "\t5%: -2.863\n",
      "\t10%: -2.568\n",
      "Reject against the null hypothesis, time series is stationary\n"
     ]
    }
   ],
   "source": [
    "train_log_diff = log(train['Close']) - mean_log\n",
    "train_log_diff.dropna(inplace = True)\n",
    "adfullerTest(train_log_diff)"
   ]
  },
  {
   "cell_type": "code",
   "execution_count": 24,
   "metadata": {},
   "outputs": [
    {
     "data": {
      "text/plain": [
       "<matplotlib.legend.Legend at 0x7fe3dd4bd150>"
      ]
     },
     "execution_count": 24,
     "metadata": {},
     "output_type": "execute_result"
    },
    {
     "data": {
      "image/png": "[encoded data removed]",
      "text/plain": [
       "<Figure size 1080x360 with 1 Axes>"
      ]
     },
     "metadata": {
      "needs_background": "light"
     },
     "output_type": "display_data"
    }
   ],
   "source": [
    "data = train_log_diff\n",
    "mean = data.rolling(50).mean()\n",
    "std = data.rolling(50).std()\n",
    "plt.figure(figsize = (15,5))\n",
    "plt.plot(data, label = 'Differential Log Transformed data')\n",
    "plt.plot(mean, label = 'rolling mean')\n",
    "plt.plot(std, label = 'rolling std')\n",
    "plt.title('Mean and Standard Deviation on Differential Log Transformed data')\n",
    "plt.xlabel('Time')\n",
    "plt.grid('True')\n",
    "plt.legend()"
   ]
  },
  {
   "cell_type": "markdown",
   "metadata": {},
   "source": [
    "### Data Modelling using ARIMA Model "
   ]
  },
  {
   "cell_type": "code",
   "execution_count": 25,
   "metadata": {},
   "outputs": [
    {
     "name": "stdout",
     "output_type": "stream",
     "text": [
      "Requirement already satisfied: pmdarima in /srv/conda/envs/notebook/lib/python3.7/site-packages (1.8.3)\n",
      "Requirement already satisfied: scikit-learn>=0.22 in /srv/conda/envs/notebook/lib/python3.7/site-packages (from pmdarima) (1.0)\n",
      "Requirement already satisfied: setuptools!=50.0.0,>=38.6.0 in /srv/conda/envs/notebook/lib/python3.7/site-packages (from pmdarima) (49.6.0.post20210108)\n",
      "Requirement already satisfied: statsmodels!=0.12.0,>=0.11 in /srv/conda/envs/notebook/lib/python3.7/site-packages (from pmdarima) (0.12.2)\n",
      "Requirement already satisfied: scipy>=1.3.2 in /srv/conda/envs/notebook/lib/python3.7/site-packages (from pmdarima) (1.7.1)\n",
      "Requirement already satisfied: joblib>=0.11 in /srv/conda/envs/notebook/lib/python3.7/site-packages (from pmdarima) (1.0.1)\n",
      "Requirement already satisfied: numpy>=1.19.3 in /srv/conda/envs/notebook/lib/python3.7/site-packages (from pmdarima) (1.21.2)\n",
      "Requirement already satisfied: Cython!=0.29.18,>=0.29 in /srv/conda/envs/notebook/lib/python3.7/site-packages (from pmdarima) (0.29.24)\n",
      "Requirement already satisfied: pandas>=0.19 in /srv/conda/envs/notebook/lib/python3.7/site-packages (from pmdarima) (1.3.2)\n",
      "Requirement already satisfied: urllib3 in /srv/conda/envs/notebook/lib/python3.7/site-packages (from pmdarima) (1.26.6)\n",
      "Requirement already satisfied: python-dateutil>=2.7.3 in /srv/conda/envs/notebook/lib/python3.7/site-packages (from pandas>=0.19->pmdarima) (2.8.2)\n",
      "Requirement already satisfied: pytz>=2017.3 in /srv/conda/envs/notebook/lib/python3.7/site-packages (from pandas>=0.19->pmdarima) (2021.1)\n",
      "Requirement already satisfied: six>=1.5 in /srv/conda/envs/notebook/lib/python3.7/site-packages (from python-dateutil>=2.7.3->pandas>=0.19->pmdarima) (1.16.0)\n",
      "Requirement already satisfied: threadpoolctl>=2.0.0 in /srv/conda/envs/notebook/lib/python3.7/site-packages (from scikit-learn>=0.22->pmdarima) (2.2.0)\n",
      "Requirement already satisfied: patsy>=0.5 in /srv/conda/envs/notebook/lib/python3.7/site-packages (from statsmodels!=0.12.0,>=0.11->pmdarima) (0.5.1)\n"
     ]
    }
   ],
   "source": [
    "!pip install pmdarima\n",
    "import pmdarima as pmd\n",
    "def arimamodel(timeseriesarray):\n",
    "    autoarima_model = pmd.auto_arima(timeseriesarray, \n",
    "                              trace=True,\n",
    "                              error_action = 'ignore',\n",
    "                              suppress_warnings = True)\n",
    "    return autoarima_model"
   ]
  },
  {
   "cell_type": "code",
   "execution_count": 26,
   "metadata": {},
   "outputs": [
    {
     "name": "stdout",
     "output_type": "stream",
     "text": [
      "Performing stepwise search to minimize aic\n",
      " ARIMA(2,1,2)(0,0,0)[0] intercept   : AIC=-11215.019, Time=2.28 sec\n",
      " ARIMA(0,1,0)(0,0,0)[0] intercept   : AIC=-11217.014, Time=0.29 sec\n",
      " ARIMA(1,1,0)(0,0,0)[0] intercept   : AIC=-11216.485, Time=0.14 sec\n",
      " ARIMA(0,1,1)(0,0,0)[0] intercept   : AIC=-11216.506, Time=0.39 sec\n",
      " ARIMA(0,1,0)(0,0,0)[0]             : AIC=-11213.082, Time=0.21 sec\n",
      " ARIMA(1,1,1)(0,0,0)[0] intercept   : AIC=-11214.515, Time=1.05 sec\n",
      "\n",
      "Best model:  ARIMA(0,1,0)(0,0,0)[0] intercept\n",
      "Total fit time: 4.381 seconds\n"
     ]
    },
    {
     "data": {
      "text/html": [
       "<table class=\"simpletable\">\n",
       "<caption>SARIMAX Results</caption>\n",
       "<tr>\n",
       "  <th>Dep. Variable:</th>           <td>y</td>        <th>  No. Observations:  </th>    <td>2064</td>   \n",
       "</tr>\n",
       "<tr>\n",
       "  <th>Model:</th>           <td>SARIMAX(0, 1, 0)</td> <th>  Log Likelihood     </th>  <td>5610.507</td> \n",
       "</tr>\n",
       "<tr>\n",
       "  <th>Date:</th>            <td>Sat, 25 Sep 2021</td> <th>  AIC                </th> <td>-11217.014</td>\n",
       "</tr>\n",
       "<tr>\n",
       "  <th>Time:</th>                <td>12:00:53</td>     <th>  BIC                </th> <td>-11205.750</td>\n",
       "</tr>\n",
       "<tr>\n",
       "  <th>Sample:</th>                  <td>0</td>        <th>  HQIC               </th> <td>-11212.885</td>\n",
       "</tr>\n",
       "<tr>\n",
       "  <th></th>                      <td> - 2064</td>     <th>                     </th>      <td> </td>    \n",
       "</tr>\n",
       "<tr>\n",
       "  <th>Covariance Type:</th>        <td>opg</td>       <th>                     </th>      <td> </td>    \n",
       "</tr>\n",
       "</table>\n",
       "<table class=\"simpletable\">\n",
       "<tr>\n",
       "      <td></td>         <th>coef</th>     <th>std err</th>      <th>z</th>      <th>P>|z|</th>  <th>[0.025</th>    <th>0.975]</th>  \n",
       "</tr>\n",
       "<tr>\n",
       "  <th>intercept</th> <td>    0.0009</td> <td>    0.000</td> <td>    2.426</td> <td> 0.015</td> <td>    0.000</td> <td>    0.002</td>\n",
       "</tr>\n",
       "<tr>\n",
       "  <th>sigma2</th>    <td>    0.0003</td> <td> 4.29e-06</td> <td>   59.217</td> <td> 0.000</td> <td>    0.000</td> <td>    0.000</td>\n",
       "</tr>\n",
       "</table>\n",
       "<table class=\"simpletable\">\n",
       "<tr>\n",
       "  <th>Ljung-Box (L1) (Q):</th>     <td>1.47</td> <th>  Jarque-Bera (JB):  </th> <td>2054.26</td>\n",
       "</tr>\n",
       "<tr>\n",
       "  <th>Prob(Q):</th>                <td>0.22</td> <th>  Prob(JB):          </th>  <td>0.00</td>  \n",
       "</tr>\n",
       "<tr>\n",
       "  <th>Heteroskedasticity (H):</th> <td>0.75</td> <th>  Skew:              </th>  <td>-0.25</td> \n",
       "</tr>\n",
       "<tr>\n",
       "  <th>Prob(H) (two-sided):</th>    <td>0.00</td> <th>  Kurtosis:          </th>  <td>7.86</td>  \n",
       "</tr>\n",
       "</table><br/><br/>Warnings:<br/>[1] Covariance matrix calculated using the outer product of gradients (complex-step)."
      ],
      "text/plain": [
       "<class 'statsmodels.iolib.summary.Summary'>\n",
       "\"\"\"\n",
       "                               SARIMAX Results                                \n",
       "==============================================================================\n",
       "Dep. Variable:                      y   No. Observations:                 2064\n",
       "Model:               SARIMAX(0, 1, 0)   Log Likelihood                5610.507\n",
       "Date:                Sat, 25 Sep 2021   AIC                         -11217.014\n",
       "Time:                        12:00:53   BIC                         -11205.750\n",
       "Sample:                             0   HQIC                        -11212.885\n",
       "                               - 2064                                         \n",
       "Covariance Type:                  opg                                         \n",
       "==============================================================================\n",
       "                 coef    std err          z      P>|z|      [0.025      0.975]\n",
       "------------------------------------------------------------------------------\n",
       "intercept      0.0009      0.000      2.426      0.015       0.000       0.002\n",
       "sigma2         0.0003   4.29e-06     59.217      0.000       0.000       0.000\n",
       "===================================================================================\n",
       "Ljung-Box (L1) (Q):                   1.47   Jarque-Bera (JB):              2054.26\n",
       "Prob(Q):                              0.22   Prob(JB):                         0.00\n",
       "Heteroskedasticity (H):               0.75   Skew:                            -0.25\n",
       "Prob(H) (two-sided):                  0.00   Kurtosis:                         7.86\n",
       "===================================================================================\n",
       "\n",
       "Warnings:\n",
       "[1] Covariance matrix calculated using the outer product of gradients (complex-step).\n",
       "\"\"\""
      ]
     },
     "execution_count": 26,
     "metadata": {},
     "output_type": "execute_result"
    }
   ],
   "source": [
    "stocks_arima = arimamodel((train_log))\n",
    "stocks_arima.summary()"
   ]
  },
  {
   "cell_type": "code",
   "execution_count": 27,
   "metadata": {},
   "outputs": [
    {
     "data": {
      "image/png": "[encoded data removed]",
      "text/plain": [
       "<Figure size 1080x1080 with 4 Axes>"
      ]
     },
     "metadata": {
      "needs_background": "light"
     },
     "output_type": "display_data"
    }
   ],
   "source": [
    "stocks_arima.plot_diagnostics(figsize=(15,15))\n",
    "plt.grid('True')\n",
    "plt.show()"
   ]
  },
  {
   "cell_type": "markdown",
   "metadata": {},
   "source": [
    "### Model Prediction"
   ]
  },
  {
   "cell_type": "code",
   "execution_count": 28,
   "metadata": {},
   "outputs": [],
   "source": [
    "predict_ClosePrice = stocks_arima.predict(n_periods = len(test_log))\n",
    "predict_ClosePrice = pd.DataFrame(predict_ClosePrice,index = test_log.index,columns=['predict_ClosePrice'])"
   ]
  },
  {
   "cell_type": "code",
   "execution_count": 29,
   "metadata": {},
   "outputs": [
    {
     "data": {
      "image/png": "[encoded data removed]",
      "text/plain": [
       "<Figure size 1080x360 with 1 Axes>"
      ]
     },
     "metadata": {
      "needs_background": "light"
     },
     "output_type": "display_data"
    }
   ],
   "source": [
    "plt.figure(figsize = (15,5))\n",
    "plt.plot(train_log, label='Train')\n",
    "plt.plot(test_log, label='Test')\n",
    "plt.plot(predict_ClosePrice, label='Prediction')\n",
    "plt.title(' Stock Price Prediction')\n",
    "plt.ylabel('Actual Stock Price')\n",
    "plt.xlabel('Time')\n",
    "plt.grid('True')"
   ]
  },
  {
   "cell_type": "markdown",
   "metadata": {},
   "source": [
    "### Model Evaluation"
   ]
  },
  {
   "cell_type": "code",
   "execution_count": 30,
   "metadata": {},
   "outputs": [
    {
     "name": "stdout",
     "output_type": "stream",
     "text": [
      "Mean Squared Error: 0.07368502398212647\n",
      "Root Mean_Squared_Error: 0.2714498553731913\n",
      "Mean Absolute Error: 0.22041292281021477\n",
      "R-Squared: 0.6222681985755212\n"
     ]
    }
   ],
   "source": [
    "print('Mean Squared Error:',mean_squared_error(test_log, predict_ClosePrice))\n",
    "print('Root Mean_Squared_Error:',np.sqrt(mean_squared_error(test_log, predict_ClosePrice)))\n",
    "print('Mean Absolute Error:',mean_absolute_error(test_log, predict_ClosePrice))\n",
    "print('R-Squared:',r2_score(test_log, predict_ClosePrice))"
   ]
  },
  {
   "cell_type": "markdown",
   "metadata": {},
   "source": [
    "### Importing News Headlines Dataset"
   ]
  },
  {
   "cell_type": "code",
   "execution_count": 31,
   "metadata": {},
   "outputs": [],
   "source": [
    "news=pd.read_csv(\"india-news-headlines.csv\")"
   ]
  },
  {
   "cell_type": "code",
   "execution_count": 32,
   "metadata": {},
   "outputs": [
    {
     "data": {
      "text/html": [
       "<div>\n",
       "<style scoped>\n",
       "    .dataframe tbody tr th:only-of-type {\n",
       "        vertical-align: middle;\n",
       "    }\n",
       "\n",
       "    .dataframe tbody tr th {\n",
       "        vertical-align: top;\n",
       "    }\n",
       "\n",
       "    .dataframe thead th {\n",
       "        text-align: right;\n",
       "    }\n",
       "</style>\n",
       "<table border=\"1\" class=\"dataframe\">\n",
       "  <thead>\n",
       "    <tr style=\"text-align: right;\">\n",
       "      <th></th>\n",
       "      <th>publish_date</th>\n",
       "      <th>headline_category</th>\n",
       "      <th>headline_text</th>\n",
       "    </tr>\n",
       "  </thead>\n",
       "  <tbody>\n",
       "    <tr>\n",
       "      <th>0</th>\n",
       "      <td>20010102</td>\n",
       "      <td>unknown</td>\n",
       "      <td>Status quo will not be disturbed at Ayodhya; s...</td>\n",
       "    </tr>\n",
       "    <tr>\n",
       "      <th>1</th>\n",
       "      <td>20010102</td>\n",
       "      <td>unknown</td>\n",
       "      <td>Fissures in Hurriyat over Pak visit</td>\n",
       "    </tr>\n",
       "    <tr>\n",
       "      <th>2</th>\n",
       "      <td>20010102</td>\n",
       "      <td>unknown</td>\n",
       "      <td>America's unwanted heading for India?</td>\n",
       "    </tr>\n",
       "    <tr>\n",
       "      <th>3</th>\n",
       "      <td>20010102</td>\n",
       "      <td>unknown</td>\n",
       "      <td>For bigwigs; it is destination Goa</td>\n",
       "    </tr>\n",
       "    <tr>\n",
       "      <th>4</th>\n",
       "      <td>20010102</td>\n",
       "      <td>unknown</td>\n",
       "      <td>Extra buses to clear tourist traffic</td>\n",
       "    </tr>\n",
       "    <tr>\n",
       "      <th>...</th>\n",
       "      <td>...</td>\n",
       "      <td>...</td>\n",
       "      <td>...</td>\n",
       "    </tr>\n",
       "    <tr>\n",
       "      <th>3424057</th>\n",
       "      <td>20201231</td>\n",
       "      <td>india</td>\n",
       "      <td>50 NRIs reach Singhu; offer help to farmers</td>\n",
       "    </tr>\n",
       "    <tr>\n",
       "      <th>3424058</th>\n",
       "      <td>20201231</td>\n",
       "      <td>city.amritsar</td>\n",
       "      <td>Navjot Singh Sidhu tweets apology; says 'wore ...</td>\n",
       "    </tr>\n",
       "    <tr>\n",
       "      <th>3424059</th>\n",
       "      <td>20201231</td>\n",
       "      <td>city.bengaluru</td>\n",
       "      <td>Azim Premji organisation's name misused to che...</td>\n",
       "    </tr>\n",
       "    <tr>\n",
       "      <th>3424060</th>\n",
       "      <td>20201231</td>\n",
       "      <td>india</td>\n",
       "      <td>Get govt nod to probe officials: MP to agencies</td>\n",
       "    </tr>\n",
       "    <tr>\n",
       "      <th>3424061</th>\n",
       "      <td>20201231</td>\n",
       "      <td>city.bengaluru</td>\n",
       "      <td>Peddler nabbed; 10kg ganja seized in Anantapur...</td>\n",
       "    </tr>\n",
       "  </tbody>\n",
       "</table>\n",
       "<p>3424062 rows × 3 columns</p>\n",
       "</div>"
      ],
      "text/plain": [
       "         publish_date headline_category  \\\n",
       "0            20010102           unknown   \n",
       "1            20010102           unknown   \n",
       "2            20010102           unknown   \n",
       "3            20010102           unknown   \n",
       "4            20010102           unknown   \n",
       "...               ...               ...   \n",
       "3424057      20201231             india   \n",
       "3424058      20201231     city.amritsar   \n",
       "3424059      20201231    city.bengaluru   \n",
       "3424060      20201231             india   \n",
       "3424061      20201231    city.bengaluru   \n",
       "\n",
       "                                             headline_text  \n",
       "0        Status quo will not be disturbed at Ayodhya; s...  \n",
       "1                      Fissures in Hurriyat over Pak visit  \n",
       "2                    America's unwanted heading for India?  \n",
       "3                       For bigwigs; it is destination Goa  \n",
       "4                     Extra buses to clear tourist traffic  \n",
       "...                                                    ...  \n",
       "3424057        50 NRIs reach Singhu; offer help to farmers  \n",
       "3424058  Navjot Singh Sidhu tweets apology; says 'wore ...  \n",
       "3424059  Azim Premji organisation's name misused to che...  \n",
       "3424060    Get govt nod to probe officials: MP to agencies  \n",
       "3424061  Peddler nabbed; 10kg ganja seized in Anantapur...  \n",
       "\n",
       "[3424062 rows x 3 columns]"
      ]
     },
     "execution_count": 32,
     "metadata": {},
     "output_type": "execute_result"
    }
   ],
   "source": [
    "news.head(-5)"
   ]
  },
  {
   "cell_type": "code",
   "execution_count": 33,
   "metadata": {
    "scrolled": true
   },
   "outputs": [
    {
     "name": "stdout",
     "output_type": "stream",
     "text": [
      "<class 'pandas.core.frame.DataFrame'>\n",
      "RangeIndex: 3424067 entries, 0 to 3424066\n",
      "Data columns (total 3 columns):\n",
      " #   Column             Dtype \n",
      "---  ------             ----- \n",
      " 0   publish_date       int64 \n",
      " 1   headline_category  object\n",
      " 2   headline_text      object\n",
      "dtypes: int64(1), object(2)\n",
      "memory usage: 78.4+ MB\n"
     ]
    }
   ],
   "source": [
    "news.info()"
   ]
  },
  {
   "cell_type": "code",
   "execution_count": 34,
   "metadata": {},
   "outputs": [
    {
     "data": {
      "text/html": [
       "<div>\n",
       "<style scoped>\n",
       "    .dataframe tbody tr th:only-of-type {\n",
       "        vertical-align: middle;\n",
       "    }\n",
       "\n",
       "    .dataframe tbody tr th {\n",
       "        vertical-align: top;\n",
       "    }\n",
       "\n",
       "    .dataframe thead th {\n",
       "        text-align: right;\n",
       "    }\n",
       "</style>\n",
       "<table border=\"1\" class=\"dataframe\">\n",
       "  <thead>\n",
       "    <tr style=\"text-align: right;\">\n",
       "      <th></th>\n",
       "      <th>publish_date</th>\n",
       "    </tr>\n",
       "  </thead>\n",
       "  <tbody>\n",
       "    <tr>\n",
       "      <th>count</th>\n",
       "      <td>3.424067e+06</td>\n",
       "    </tr>\n",
       "    <tr>\n",
       "      <th>mean</th>\n",
       "      <td>2.012659e+07</td>\n",
       "    </tr>\n",
       "    <tr>\n",
       "      <th>std</th>\n",
       "      <td>4.981132e+04</td>\n",
       "    </tr>\n",
       "    <tr>\n",
       "      <th>min</th>\n",
       "      <td>2.001010e+07</td>\n",
       "    </tr>\n",
       "    <tr>\n",
       "      <th>25%</th>\n",
       "      <td>2.009113e+07</td>\n",
       "    </tr>\n",
       "    <tr>\n",
       "      <th>50%</th>\n",
       "      <td>2.013092e+07</td>\n",
       "    </tr>\n",
       "    <tr>\n",
       "      <th>75%</th>\n",
       "      <td>2.017013e+07</td>\n",
       "    </tr>\n",
       "    <tr>\n",
       "      <th>max</th>\n",
       "      <td>2.020123e+07</td>\n",
       "    </tr>\n",
       "  </tbody>\n",
       "</table>\n",
       "</div>"
      ],
      "text/plain": [
       "       publish_date\n",
       "count  3.424067e+06\n",
       "mean   2.012659e+07\n",
       "std    4.981132e+04\n",
       "min    2.001010e+07\n",
       "25%    2.009113e+07\n",
       "50%    2.013092e+07\n",
       "75%    2.017013e+07\n",
       "max    2.020123e+07"
      ]
     },
     "execution_count": 34,
     "metadata": {},
     "output_type": "execute_result"
    }
   ],
   "source": [
    "news.describe()"
   ]
  },
  {
   "cell_type": "markdown",
   "metadata": {},
   "source": [
    "### Data Preprocessing"
   ]
  },
  {
   "cell_type": "code",
   "execution_count": 35,
   "metadata": {},
   "outputs": [
    {
     "data": {
      "text/html": [
       "<div>\n",
       "<style scoped>\n",
       "    .dataframe tbody tr th:only-of-type {\n",
       "        vertical-align: middle;\n",
       "    }\n",
       "\n",
       "    .dataframe tbody tr th {\n",
       "        vertical-align: top;\n",
       "    }\n",
       "\n",
       "    .dataframe thead th {\n",
       "        text-align: right;\n",
       "    }\n",
       "</style>\n",
       "<table border=\"1\" class=\"dataframe\">\n",
       "  <thead>\n",
       "    <tr style=\"text-align: right;\">\n",
       "      <th></th>\n",
       "      <th>publish_date</th>\n",
       "      <th>headline_category</th>\n",
       "      <th>headline_text</th>\n",
       "    </tr>\n",
       "  </thead>\n",
       "  <tbody>\n",
       "    <tr>\n",
       "      <th>0</th>\n",
       "      <td>2001-01-02</td>\n",
       "      <td>unknown</td>\n",
       "      <td>Status quo will not be disturbed at Ayodhya; s...</td>\n",
       "    </tr>\n",
       "    <tr>\n",
       "      <th>1</th>\n",
       "      <td>2001-01-02</td>\n",
       "      <td>unknown</td>\n",
       "      <td>Fissures in Hurriyat over Pak visit</td>\n",
       "    </tr>\n",
       "    <tr>\n",
       "      <th>2</th>\n",
       "      <td>2001-01-02</td>\n",
       "      <td>unknown</td>\n",
       "      <td>America's unwanted heading for India?</td>\n",
       "    </tr>\n",
       "    <tr>\n",
       "      <th>3</th>\n",
       "      <td>2001-01-02</td>\n",
       "      <td>unknown</td>\n",
       "      <td>For bigwigs; it is destination Goa</td>\n",
       "    </tr>\n",
       "    <tr>\n",
       "      <th>4</th>\n",
       "      <td>2001-01-02</td>\n",
       "      <td>unknown</td>\n",
       "      <td>Extra buses to clear tourist traffic</td>\n",
       "    </tr>\n",
       "    <tr>\n",
       "      <th>...</th>\n",
       "      <td>...</td>\n",
       "      <td>...</td>\n",
       "      <td>...</td>\n",
       "    </tr>\n",
       "    <tr>\n",
       "      <th>3424057</th>\n",
       "      <td>2020-12-31</td>\n",
       "      <td>india</td>\n",
       "      <td>50 NRIs reach Singhu; offer help to farmers</td>\n",
       "    </tr>\n",
       "    <tr>\n",
       "      <th>3424058</th>\n",
       "      <td>2020-12-31</td>\n",
       "      <td>city.amritsar</td>\n",
       "      <td>Navjot Singh Sidhu tweets apology; says 'wore ...</td>\n",
       "    </tr>\n",
       "    <tr>\n",
       "      <th>3424059</th>\n",
       "      <td>2020-12-31</td>\n",
       "      <td>city.bengaluru</td>\n",
       "      <td>Azim Premji organisation's name misused to che...</td>\n",
       "    </tr>\n",
       "    <tr>\n",
       "      <th>3424060</th>\n",
       "      <td>2020-12-31</td>\n",
       "      <td>india</td>\n",
       "      <td>Get govt nod to probe officials: MP to agencies</td>\n",
       "    </tr>\n",
       "    <tr>\n",
       "      <th>3424061</th>\n",
       "      <td>2020-12-31</td>\n",
       "      <td>city.bengaluru</td>\n",
       "      <td>Peddler nabbed; 10kg ganja seized in Anantapur...</td>\n",
       "    </tr>\n",
       "  </tbody>\n",
       "</table>\n",
       "<p>3424062 rows × 3 columns</p>\n",
       "</div>"
      ],
      "text/plain": [
       "        publish_date headline_category  \\\n",
       "0         2001-01-02           unknown   \n",
       "1         2001-01-02           unknown   \n",
       "2         2001-01-02           unknown   \n",
       "3         2001-01-02           unknown   \n",
       "4         2001-01-02           unknown   \n",
       "...              ...               ...   \n",
       "3424057   2020-12-31             india   \n",
       "3424058   2020-12-31     city.amritsar   \n",
       "3424059   2020-12-31    city.bengaluru   \n",
       "3424060   2020-12-31             india   \n",
       "3424061   2020-12-31    city.bengaluru   \n",
       "\n",
       "                                             headline_text  \n",
       "0        Status quo will not be disturbed at Ayodhya; s...  \n",
       "1                      Fissures in Hurriyat over Pak visit  \n",
       "2                    America's unwanted heading for India?  \n",
       "3                       For bigwigs; it is destination Goa  \n",
       "4                     Extra buses to clear tourist traffic  \n",
       "...                                                    ...  \n",
       "3424057        50 NRIs reach Singhu; offer help to farmers  \n",
       "3424058  Navjot Singh Sidhu tweets apology; says 'wore ...  \n",
       "3424059  Azim Premji organisation's name misused to che...  \n",
       "3424060    Get govt nod to probe officials: MP to agencies  \n",
       "3424061  Peddler nabbed; 10kg ganja seized in Anantapur...  \n",
       "\n",
       "[3424062 rows x 3 columns]"
      ]
     },
     "execution_count": 35,
     "metadata": {},
     "output_type": "execute_result"
    }
   ],
   "source": [
    "news['publish_date'] = pd.to_datetime(news['publish_date'],format= '%Y%m%d')\n",
    "news.head(-5)"
   ]
  },
  {
   "cell_type": "code",
   "execution_count": 36,
   "metadata": {},
   "outputs": [
    {
     "data": {
      "text/plain": [
       "publish_date         0\n",
       "headline_category    0\n",
       "headline_text        0\n",
       "dtype: int64"
      ]
     },
     "execution_count": 36,
     "metadata": {},
     "output_type": "execute_result"
    }
   ],
   "source": [
    "news.isna().sum()"
   ]
  },
  {
   "cell_type": "markdown",
   "metadata": {},
   "source": [
    "### Data Analysis"
   ]
  },
  {
   "cell_type": "code",
   "execution_count": 37,
   "metadata": {},
   "outputs": [
    {
     "data": {
      "text/plain": [
       "india                      288541\n",
       "unknown                    209582\n",
       "city.mumbai                134428\n",
       "city.delhi                 127717\n",
       "business.india-business    116761\n",
       "Name: headline_category, dtype: int64"
      ]
     },
     "execution_count": 37,
     "metadata": {},
     "output_type": "execute_result"
    }
   ],
   "source": [
    "news['headline_category'].value_counts().head()"
   ]
  },
  {
   "cell_type": "code",
   "execution_count": 38,
   "metadata": {},
   "outputs": [
    {
     "data": {
      "text/html": [
       "<div>\n",
       "<style scoped>\n",
       "    .dataframe tbody tr th:only-of-type {\n",
       "        vertical-align: middle;\n",
       "    }\n",
       "\n",
       "    .dataframe tbody tr th {\n",
       "        vertical-align: top;\n",
       "    }\n",
       "\n",
       "    .dataframe thead th {\n",
       "        text-align: right;\n",
       "    }\n",
       "</style>\n",
       "<table border=\"1\" class=\"dataframe\">\n",
       "  <thead>\n",
       "    <tr style=\"text-align: right;\">\n",
       "      <th></th>\n",
       "      <th>publish_date</th>\n",
       "      <th>headline_category</th>\n",
       "      <th>headline_text</th>\n",
       "    </tr>\n",
       "  </thead>\n",
       "  <tbody>\n",
       "    <tr>\n",
       "      <th>273</th>\n",
       "      <td>2001-01-04</td>\n",
       "      <td>city.bengaluru</td>\n",
       "      <td>Three in race for chief secy's post</td>\n",
       "    </tr>\n",
       "    <tr>\n",
       "      <th>274</th>\n",
       "      <td>2001-01-04</td>\n",
       "      <td>city.patna</td>\n",
       "      <td>Druggists' stir leads to shortage of medicines</td>\n",
       "    </tr>\n",
       "    <tr>\n",
       "      <th>277</th>\n",
       "      <td>2001-01-04</td>\n",
       "      <td>city.bengaluru</td>\n",
       "      <td>He's not so inscrutable</td>\n",
       "    </tr>\n",
       "    <tr>\n",
       "      <th>278</th>\n",
       "      <td>2001-01-04</td>\n",
       "      <td>city.delhi</td>\n",
       "      <td>DPCC stages Nyay rally</td>\n",
       "    </tr>\n",
       "    <tr>\n",
       "      <th>642</th>\n",
       "      <td>2001-01-10</td>\n",
       "      <td>city.patna</td>\n",
       "      <td>Fend for yourselves; Pande tells doctors</td>\n",
       "    </tr>\n",
       "    <tr>\n",
       "      <th>...</th>\n",
       "      <td>...</td>\n",
       "      <td>...</td>\n",
       "      <td>...</td>\n",
       "    </tr>\n",
       "    <tr>\n",
       "      <th>3424050</th>\n",
       "      <td>2020-12-31</td>\n",
       "      <td>city.mumbai</td>\n",
       "      <td>Today; BMC to station more 'Covid' marshals at...</td>\n",
       "    </tr>\n",
       "    <tr>\n",
       "      <th>3424051</th>\n",
       "      <td>2020-12-31</td>\n",
       "      <td>city.gurgaon</td>\n",
       "      <td>Couple shot dead in Rohtak; woman's uncle; rel...</td>\n",
       "    </tr>\n",
       "    <tr>\n",
       "      <th>3424054</th>\n",
       "      <td>2020-12-31</td>\n",
       "      <td>city.hyderabad</td>\n",
       "      <td>Another U-turn; Telangana to adopt Ayushman Bh...</td>\n",
       "    </tr>\n",
       "    <tr>\n",
       "      <th>3424056</th>\n",
       "      <td>2020-12-31</td>\n",
       "      <td>city.bengaluru</td>\n",
       "      <td>Four held in Bengaluru for trying to swap Rs 2...</td>\n",
       "    </tr>\n",
       "    <tr>\n",
       "      <th>3424058</th>\n",
       "      <td>2020-12-31</td>\n",
       "      <td>city.amritsar</td>\n",
       "      <td>Navjot Singh Sidhu tweets apology; says 'wore ...</td>\n",
       "    </tr>\n",
       "  </tbody>\n",
       "</table>\n",
       "<p>1922606 rows × 3 columns</p>\n",
       "</div>"
      ],
      "text/plain": [
       "        publish_date headline_category  \\\n",
       "273       2001-01-04    city.bengaluru   \n",
       "274       2001-01-04        city.patna   \n",
       "277       2001-01-04    city.bengaluru   \n",
       "278       2001-01-04        city.delhi   \n",
       "642       2001-01-10        city.patna   \n",
       "...              ...               ...   \n",
       "3424050   2020-12-31       city.mumbai   \n",
       "3424051   2020-12-31      city.gurgaon   \n",
       "3424054   2020-12-31    city.hyderabad   \n",
       "3424056   2020-12-31    city.bengaluru   \n",
       "3424058   2020-12-31     city.amritsar   \n",
       "\n",
       "                                             headline_text  \n",
       "273                    Three in race for chief secy's post  \n",
       "274         Druggists' stir leads to shortage of medicines  \n",
       "277                                He's not so inscrutable  \n",
       "278                                 DPCC stages Nyay rally  \n",
       "642               Fend for yourselves; Pande tells doctors  \n",
       "...                                                    ...  \n",
       "3424050  Today; BMC to station more 'Covid' marshals at...  \n",
       "3424051  Couple shot dead in Rohtak; woman's uncle; rel...  \n",
       "3424054  Another U-turn; Telangana to adopt Ayushman Bh...  \n",
       "3424056  Four held in Bengaluru for trying to swap Rs 2...  \n",
       "3424058  Navjot Singh Sidhu tweets apology; says 'wore ...  \n",
       "\n",
       "[1922606 rows x 3 columns]"
      ]
     },
     "execution_count": 38,
     "metadata": {},
     "output_type": "execute_result"
    }
   ],
   "source": [
    "cities = news[news['headline_category'].str.contains('^city\\.[a-z]+$', regex=True)]\n",
    "cities.head(-5)"
   ]
  },
  {
   "cell_type": "code",
   "execution_count": 39,
   "metadata": {},
   "outputs": [
    {
     "data": {
      "text/html": [
       "<div>\n",
       "<style scoped>\n",
       "    .dataframe tbody tr th:only-of-type {\n",
       "        vertical-align: middle;\n",
       "    }\n",
       "\n",
       "    .dataframe tbody tr th {\n",
       "        vertical-align: top;\n",
       "    }\n",
       "\n",
       "    .dataframe thead th {\n",
       "        text-align: right;\n",
       "    }\n",
       "</style>\n",
       "<table border=\"1\" class=\"dataframe\">\n",
       "  <thead>\n",
       "    <tr style=\"text-align: right;\">\n",
       "      <th></th>\n",
       "      <th>publish_date</th>\n",
       "      <th>headline_category</th>\n",
       "      <th>headline_text</th>\n",
       "      <th>city_name</th>\n",
       "    </tr>\n",
       "  </thead>\n",
       "  <tbody>\n",
       "    <tr>\n",
       "      <th>273</th>\n",
       "      <td>2001-01-04</td>\n",
       "      <td>city.bengaluru</td>\n",
       "      <td>Three in race for chief secy's post</td>\n",
       "      <td>bengaluru</td>\n",
       "    </tr>\n",
       "    <tr>\n",
       "      <th>274</th>\n",
       "      <td>2001-01-04</td>\n",
       "      <td>city.patna</td>\n",
       "      <td>Druggists' stir leads to shortage of medicines</td>\n",
       "      <td>patna</td>\n",
       "    </tr>\n",
       "    <tr>\n",
       "      <th>277</th>\n",
       "      <td>2001-01-04</td>\n",
       "      <td>city.bengaluru</td>\n",
       "      <td>He's not so inscrutable</td>\n",
       "      <td>bengaluru</td>\n",
       "    </tr>\n",
       "    <tr>\n",
       "      <th>278</th>\n",
       "      <td>2001-01-04</td>\n",
       "      <td>city.delhi</td>\n",
       "      <td>DPCC stages Nyay rally</td>\n",
       "      <td>delhi</td>\n",
       "    </tr>\n",
       "    <tr>\n",
       "      <th>642</th>\n",
       "      <td>2001-01-10</td>\n",
       "      <td>city.patna</td>\n",
       "      <td>Fend for yourselves; Pande tells doctors</td>\n",
       "      <td>patna</td>\n",
       "    </tr>\n",
       "  </tbody>\n",
       "</table>\n",
       "</div>"
      ],
      "text/plain": [
       "    publish_date headline_category  \\\n",
       "273   2001-01-04    city.bengaluru   \n",
       "274   2001-01-04        city.patna   \n",
       "277   2001-01-04    city.bengaluru   \n",
       "278   2001-01-04        city.delhi   \n",
       "642   2001-01-10        city.patna   \n",
       "\n",
       "                                      headline_text  city_name  \n",
       "273             Three in race for chief secy's post  bengaluru  \n",
       "274  Druggists' stir leads to shortage of medicines      patna  \n",
       "277                         He's not so inscrutable  bengaluru  \n",
       "278                          DPCC stages Nyay rally      delhi  \n",
       "642        Fend for yourselves; Pande tells doctors      patna  "
      ]
     },
     "execution_count": 39,
     "metadata": {},
     "output_type": "execute_result"
    }
   ],
   "source": [
    "city = pd.DataFrame(columns = ['city_name'])\n",
    "city['city_name'] = cities.headline_category.str.split('.',expand = True)[1]\n",
    "cities = pd.concat([cities, city], axis = 1)\n",
    "cities.head()"
   ]
  },
  {
   "cell_type": "code",
   "execution_count": 40,
   "metadata": {},
   "outputs": [],
   "source": [
    "cities.drop('headline_category', inplace =True,axis =1)"
   ]
  },
  {
   "cell_type": "code",
   "execution_count": 41,
   "metadata": {},
   "outputs": [
    {
     "data": {
      "text/html": [
       "<div>\n",
       "<style scoped>\n",
       "    .dataframe tbody tr th:only-of-type {\n",
       "        vertical-align: middle;\n",
       "    }\n",
       "\n",
       "    .dataframe tbody tr th {\n",
       "        vertical-align: top;\n",
       "    }\n",
       "\n",
       "    .dataframe thead th {\n",
       "        text-align: right;\n",
       "    }\n",
       "</style>\n",
       "<table border=\"1\" class=\"dataframe\">\n",
       "  <thead>\n",
       "    <tr style=\"text-align: right;\">\n",
       "      <th></th>\n",
       "      <th>publish_date</th>\n",
       "      <th>headline_text</th>\n",
       "      <th>city_name</th>\n",
       "    </tr>\n",
       "  </thead>\n",
       "  <tbody>\n",
       "    <tr>\n",
       "      <th>273</th>\n",
       "      <td>2001-01-04</td>\n",
       "      <td>Three in race for chief secy's post</td>\n",
       "      <td>bengaluru</td>\n",
       "    </tr>\n",
       "    <tr>\n",
       "      <th>274</th>\n",
       "      <td>2001-01-04</td>\n",
       "      <td>Druggists' stir leads to shortage of medicines</td>\n",
       "      <td>patna</td>\n",
       "    </tr>\n",
       "    <tr>\n",
       "      <th>277</th>\n",
       "      <td>2001-01-04</td>\n",
       "      <td>He's not so inscrutable</td>\n",
       "      <td>bengaluru</td>\n",
       "    </tr>\n",
       "    <tr>\n",
       "      <th>278</th>\n",
       "      <td>2001-01-04</td>\n",
       "      <td>DPCC stages Nyay rally</td>\n",
       "      <td>delhi</td>\n",
       "    </tr>\n",
       "    <tr>\n",
       "      <th>642</th>\n",
       "      <td>2001-01-10</td>\n",
       "      <td>Fend for yourselves; Pande tells doctors</td>\n",
       "      <td>patna</td>\n",
       "    </tr>\n",
       "    <tr>\n",
       "      <th>...</th>\n",
       "      <td>...</td>\n",
       "      <td>...</td>\n",
       "      <td>...</td>\n",
       "    </tr>\n",
       "    <tr>\n",
       "      <th>3424050</th>\n",
       "      <td>2020-12-31</td>\n",
       "      <td>Today; BMC to station more 'Covid' marshals at...</td>\n",
       "      <td>mumbai</td>\n",
       "    </tr>\n",
       "    <tr>\n",
       "      <th>3424051</th>\n",
       "      <td>2020-12-31</td>\n",
       "      <td>Couple shot dead in Rohtak; woman's uncle; rel...</td>\n",
       "      <td>gurgaon</td>\n",
       "    </tr>\n",
       "    <tr>\n",
       "      <th>3424054</th>\n",
       "      <td>2020-12-31</td>\n",
       "      <td>Another U-turn; Telangana to adopt Ayushman Bh...</td>\n",
       "      <td>hyderabad</td>\n",
       "    </tr>\n",
       "    <tr>\n",
       "      <th>3424056</th>\n",
       "      <td>2020-12-31</td>\n",
       "      <td>Four held in Bengaluru for trying to swap Rs 2...</td>\n",
       "      <td>bengaluru</td>\n",
       "    </tr>\n",
       "    <tr>\n",
       "      <th>3424058</th>\n",
       "      <td>2020-12-31</td>\n",
       "      <td>Navjot Singh Sidhu tweets apology; says 'wore ...</td>\n",
       "      <td>amritsar</td>\n",
       "    </tr>\n",
       "  </tbody>\n",
       "</table>\n",
       "<p>1922606 rows × 3 columns</p>\n",
       "</div>"
      ],
      "text/plain": [
       "        publish_date                                      headline_text  \\\n",
       "273       2001-01-04                Three in race for chief secy's post   \n",
       "274       2001-01-04     Druggists' stir leads to shortage of medicines   \n",
       "277       2001-01-04                            He's not so inscrutable   \n",
       "278       2001-01-04                             DPCC stages Nyay rally   \n",
       "642       2001-01-10           Fend for yourselves; Pande tells doctors   \n",
       "...              ...                                                ...   \n",
       "3424050   2020-12-31  Today; BMC to station more 'Covid' marshals at...   \n",
       "3424051   2020-12-31  Couple shot dead in Rohtak; woman's uncle; rel...   \n",
       "3424054   2020-12-31  Another U-turn; Telangana to adopt Ayushman Bh...   \n",
       "3424056   2020-12-31  Four held in Bengaluru for trying to swap Rs 2...   \n",
       "3424058   2020-12-31  Navjot Singh Sidhu tweets apology; says 'wore ...   \n",
       "\n",
       "         city_name  \n",
       "273      bengaluru  \n",
       "274          patna  \n",
       "277      bengaluru  \n",
       "278          delhi  \n",
       "642          patna  \n",
       "...            ...  \n",
       "3424050     mumbai  \n",
       "3424051    gurgaon  \n",
       "3424054  hyderabad  \n",
       "3424056  bengaluru  \n",
       "3424058   amritsar  \n",
       "\n",
       "[1922606 rows x 3 columns]"
      ]
     },
     "execution_count": 41,
     "metadata": {},
     "output_type": "execute_result"
    }
   ],
   "source": [
    "cities.head(-5)"
   ]
  },
  {
   "cell_type": "code",
   "execution_count": 42,
   "metadata": {},
   "outputs": [
    {
     "data": {
      "text/html": [
       "<div>\n",
       "<style scoped>\n",
       "    .dataframe tbody tr th:only-of-type {\n",
       "        vertical-align: middle;\n",
       "    }\n",
       "\n",
       "    .dataframe tbody tr th {\n",
       "        vertical-align: top;\n",
       "    }\n",
       "\n",
       "    .dataframe thead th {\n",
       "        text-align: right;\n",
       "    }\n",
       "</style>\n",
       "<table border=\"1\" class=\"dataframe\">\n",
       "  <thead>\n",
       "    <tr style=\"text-align: right;\">\n",
       "      <th></th>\n",
       "      <th>headline_text</th>\n",
       "    </tr>\n",
       "    <tr>\n",
       "      <th>city_name</th>\n",
       "      <th></th>\n",
       "    </tr>\n",
       "  </thead>\n",
       "  <tbody>\n",
       "    <tr>\n",
       "      <th>agartala</th>\n",
       "      <td>1183</td>\n",
       "    </tr>\n",
       "    <tr>\n",
       "      <th>agra</th>\n",
       "      <td>4884</td>\n",
       "    </tr>\n",
       "    <tr>\n",
       "      <th>ahmedabad</th>\n",
       "      <td>89513</td>\n",
       "    </tr>\n",
       "    <tr>\n",
       "      <th>ajmer</th>\n",
       "      <td>1587</td>\n",
       "    </tr>\n",
       "    <tr>\n",
       "      <th>allahabad</th>\n",
       "      <td>19285</td>\n",
       "    </tr>\n",
       "  </tbody>\n",
       "</table>\n",
       "</div>"
      ],
      "text/plain": [
       "           headline_text\n",
       "city_name               \n",
       "agartala            1183\n",
       "agra                4884\n",
       "ahmedabad          89513\n",
       "ajmer               1587\n",
       "allahabad          19285"
      ]
     },
     "execution_count": 42,
     "metadata": {},
     "output_type": "execute_result"
    }
   ],
   "source": [
    "cites = cities.groupby(cities['city_name']).agg({'headline_text':'count'})\n",
    "cites.head()"
   ]
  },
  {
   "cell_type": "code",
   "execution_count": 43,
   "metadata": {},
   "outputs": [],
   "source": [
    "cites.rename(columns = {'headline_text':'headline_count'}, inplace = True)"
   ]
  },
  {
   "cell_type": "code",
   "execution_count": 44,
   "metadata": {},
   "outputs": [
    {
     "data": {
      "text/html": [
       "<div>\n",
       "<style scoped>\n",
       "    .dataframe tbody tr th:only-of-type {\n",
       "        vertical-align: middle;\n",
       "    }\n",
       "\n",
       "    .dataframe tbody tr th {\n",
       "        vertical-align: top;\n",
       "    }\n",
       "\n",
       "    .dataframe thead th {\n",
       "        text-align: right;\n",
       "    }\n",
       "</style>\n",
       "<table border=\"1\" class=\"dataframe\">\n",
       "  <thead>\n",
       "    <tr style=\"text-align: right;\">\n",
       "      <th></th>\n",
       "      <th>headline_count</th>\n",
       "    </tr>\n",
       "    <tr>\n",
       "      <th>city_name</th>\n",
       "      <th></th>\n",
       "    </tr>\n",
       "  </thead>\n",
       "  <tbody>\n",
       "    <tr>\n",
       "      <th>mumbai</th>\n",
       "      <td>134428</td>\n",
       "    </tr>\n",
       "    <tr>\n",
       "      <th>delhi</th>\n",
       "      <td>127717</td>\n",
       "    </tr>\n",
       "    <tr>\n",
       "      <th>chandigarh</th>\n",
       "      <td>110453</td>\n",
       "    </tr>\n",
       "    <tr>\n",
       "      <th>hyderabad</th>\n",
       "      <td>104692</td>\n",
       "    </tr>\n",
       "    <tr>\n",
       "      <th>bengaluru</th>\n",
       "      <td>93663</td>\n",
       "    </tr>\n",
       "  </tbody>\n",
       "</table>\n",
       "</div>"
      ],
      "text/plain": [
       "            headline_count\n",
       "city_name                 \n",
       "mumbai              134428\n",
       "delhi               127717\n",
       "chandigarh          110453\n",
       "hyderabad           104692\n",
       "bengaluru            93663"
      ]
     },
     "execution_count": 44,
     "metadata": {},
     "output_type": "execute_result"
    }
   ],
   "source": [
    "cites = cites.sort_values(by='headline_count',ascending=False)\n",
    "cites.head()"
   ]
  },
  {
   "cell_type": "code",
   "execution_count": 45,
   "metadata": {},
   "outputs": [
    {
     "data": {
      "text/html": [
       "<div>\n",
       "<style scoped>\n",
       "    .dataframe tbody tr th:only-of-type {\n",
       "        vertical-align: middle;\n",
       "    }\n",
       "\n",
       "    .dataframe tbody tr th {\n",
       "        vertical-align: top;\n",
       "    }\n",
       "\n",
       "    .dataframe thead th {\n",
       "        text-align: right;\n",
       "    }\n",
       "</style>\n",
       "<table border=\"1\" class=\"dataframe\">\n",
       "  <thead>\n",
       "    <tr style=\"text-align: right;\">\n",
       "      <th></th>\n",
       "      <th>headline_count</th>\n",
       "    </tr>\n",
       "    <tr>\n",
       "      <th>city_name</th>\n",
       "      <th></th>\n",
       "    </tr>\n",
       "  </thead>\n",
       "  <tbody>\n",
       "    <tr>\n",
       "      <th>mumbai</th>\n",
       "      <td>134428</td>\n",
       "    </tr>\n",
       "    <tr>\n",
       "      <th>delhi</th>\n",
       "      <td>127717</td>\n",
       "    </tr>\n",
       "    <tr>\n",
       "      <th>chandigarh</th>\n",
       "      <td>110453</td>\n",
       "    </tr>\n",
       "    <tr>\n",
       "      <th>hyderabad</th>\n",
       "      <td>104692</td>\n",
       "    </tr>\n",
       "    <tr>\n",
       "      <th>bengaluru</th>\n",
       "      <td>93663</td>\n",
       "    </tr>\n",
       "    <tr>\n",
       "      <th>ahmedabad</th>\n",
       "      <td>89513</td>\n",
       "    </tr>\n",
       "    <tr>\n",
       "      <th>pune</th>\n",
       "      <td>88590</td>\n",
       "    </tr>\n",
       "    <tr>\n",
       "      <th>lucknow</th>\n",
       "      <td>86275</td>\n",
       "    </tr>\n",
       "    <tr>\n",
       "      <th>kolkata</th>\n",
       "      <td>84616</td>\n",
       "    </tr>\n",
       "    <tr>\n",
       "      <th>nagpur</th>\n",
       "      <td>80821</td>\n",
       "    </tr>\n",
       "  </tbody>\n",
       "</table>\n",
       "</div>"
      ],
      "text/plain": [
       "            headline_count\n",
       "city_name                 \n",
       "mumbai              134428\n",
       "delhi               127717\n",
       "chandigarh          110453\n",
       "hyderabad           104692\n",
       "bengaluru            93663\n",
       "ahmedabad            89513\n",
       "pune                 88590\n",
       "lucknow              86275\n",
       "kolkata              84616\n",
       "nagpur               80821"
      ]
     },
     "execution_count": 45,
     "metadata": {},
     "output_type": "execute_result"
    }
   ],
   "source": [
    "top10cites = cites.head(10)\n",
    "top10cites"
   ]
  },
  {
   "cell_type": "code",
   "execution_count": 46,
   "metadata": {},
   "outputs": [
    {
     "data": {
      "image/png": "[encoded data removed]",
      "text/plain": [
       "<Figure size 1080x360 with 1 Axes>"
      ]
     },
     "metadata": {
      "needs_background": "light"
     },
     "output_type": "display_data"
    }
   ],
   "source": [
    "plt.figure(figsize=(15,5))\n",
    "plt.title('Count of Headlines for top10 Cities')\n",
    "plt.xlabel('Cities')\n",
    "plt.ylabel('Count')\n",
    "plt.plot(top10cites)\n",
    "plt.grid('True')\n",
    "plt.show()"
   ]
  },
  {
   "cell_type": "code",
   "execution_count": 47,
   "metadata": {},
   "outputs": [
    {
     "data": {
      "text/html": [
       "<div>\n",
       "<style scoped>\n",
       "    .dataframe tbody tr th:only-of-type {\n",
       "        vertical-align: middle;\n",
       "    }\n",
       "\n",
       "    .dataframe tbody tr th {\n",
       "        vertical-align: top;\n",
       "    }\n",
       "\n",
       "    .dataframe thead th {\n",
       "        text-align: right;\n",
       "    }\n",
       "</style>\n",
       "<table border=\"1\" class=\"dataframe\">\n",
       "  <thead>\n",
       "    <tr style=\"text-align: right;\">\n",
       "      <th></th>\n",
       "      <th>publish_date</th>\n",
       "      <th>headline_text</th>\n",
       "      <th>city_name</th>\n",
       "    </tr>\n",
       "  </thead>\n",
       "  <tbody>\n",
       "    <tr>\n",
       "      <th>273</th>\n",
       "      <td>2001-01-04</td>\n",
       "      <td>Three in race for chief secy's post</td>\n",
       "      <td>bengaluru</td>\n",
       "    </tr>\n",
       "    <tr>\n",
       "      <th>274</th>\n",
       "      <td>2001-01-04</td>\n",
       "      <td>Druggists' stir leads to shortage of medicines</td>\n",
       "      <td>patna</td>\n",
       "    </tr>\n",
       "    <tr>\n",
       "      <th>277</th>\n",
       "      <td>2001-01-04</td>\n",
       "      <td>He's not so inscrutable</td>\n",
       "      <td>bengaluru</td>\n",
       "    </tr>\n",
       "    <tr>\n",
       "      <th>278</th>\n",
       "      <td>2001-01-04</td>\n",
       "      <td>DPCC stages Nyay rally</td>\n",
       "      <td>delhi</td>\n",
       "    </tr>\n",
       "    <tr>\n",
       "      <th>642</th>\n",
       "      <td>2001-01-10</td>\n",
       "      <td>Fend for yourselves; Pande tells doctors</td>\n",
       "      <td>patna</td>\n",
       "    </tr>\n",
       "    <tr>\n",
       "      <th>...</th>\n",
       "      <td>...</td>\n",
       "      <td>...</td>\n",
       "      <td>...</td>\n",
       "    </tr>\n",
       "    <tr>\n",
       "      <th>3424050</th>\n",
       "      <td>2020-12-31</td>\n",
       "      <td>Today; BMC to station more 'Covid' marshals at...</td>\n",
       "      <td>mumbai</td>\n",
       "    </tr>\n",
       "    <tr>\n",
       "      <th>3424051</th>\n",
       "      <td>2020-12-31</td>\n",
       "      <td>Couple shot dead in Rohtak; woman's uncle; rel...</td>\n",
       "      <td>gurgaon</td>\n",
       "    </tr>\n",
       "    <tr>\n",
       "      <th>3424054</th>\n",
       "      <td>2020-12-31</td>\n",
       "      <td>Another U-turn; Telangana to adopt Ayushman Bh...</td>\n",
       "      <td>hyderabad</td>\n",
       "    </tr>\n",
       "    <tr>\n",
       "      <th>3424056</th>\n",
       "      <td>2020-12-31</td>\n",
       "      <td>Four held in Bengaluru for trying to swap Rs 2...</td>\n",
       "      <td>bengaluru</td>\n",
       "    </tr>\n",
       "    <tr>\n",
       "      <th>3424058</th>\n",
       "      <td>2020-12-31</td>\n",
       "      <td>Navjot Singh Sidhu tweets apology; says 'wore ...</td>\n",
       "      <td>amritsar</td>\n",
       "    </tr>\n",
       "  </tbody>\n",
       "</table>\n",
       "<p>1922606 rows × 3 columns</p>\n",
       "</div>"
      ],
      "text/plain": [
       "        publish_date                                      headline_text  \\\n",
       "273       2001-01-04                Three in race for chief secy's post   \n",
       "274       2001-01-04     Druggists' stir leads to shortage of medicines   \n",
       "277       2001-01-04                            He's not so inscrutable   \n",
       "278       2001-01-04                             DPCC stages Nyay rally   \n",
       "642       2001-01-10           Fend for yourselves; Pande tells doctors   \n",
       "...              ...                                                ...   \n",
       "3424050   2020-12-31  Today; BMC to station more 'Covid' marshals at...   \n",
       "3424051   2020-12-31  Couple shot dead in Rohtak; woman's uncle; rel...   \n",
       "3424054   2020-12-31  Another U-turn; Telangana to adopt Ayushman Bh...   \n",
       "3424056   2020-12-31  Four held in Bengaluru for trying to swap Rs 2...   \n",
       "3424058   2020-12-31  Navjot Singh Sidhu tweets apology; says 'wore ...   \n",
       "\n",
       "         city_name  \n",
       "273      bengaluru  \n",
       "274          patna  \n",
       "277      bengaluru  \n",
       "278          delhi  \n",
       "642          patna  \n",
       "...            ...  \n",
       "3424050     mumbai  \n",
       "3424051    gurgaon  \n",
       "3424054  hyderabad  \n",
       "3424056  bengaluru  \n",
       "3424058   amritsar  \n",
       "\n",
       "[1922606 rows x 3 columns]"
      ]
     },
     "execution_count": 47,
     "metadata": {},
     "output_type": "execute_result"
    }
   ],
   "source": [
    "cities.head(-5)"
   ]
  },
  {
   "cell_type": "code",
   "execution_count": 48,
   "metadata": {},
   "outputs": [
    {
     "data": {
      "text/html": [
       "<div>\n",
       "<style scoped>\n",
       "    .dataframe tbody tr th:only-of-type {\n",
       "        vertical-align: middle;\n",
       "    }\n",
       "\n",
       "    .dataframe tbody tr th {\n",
       "        vertical-align: top;\n",
       "    }\n",
       "\n",
       "    .dataframe thead th {\n",
       "        text-align: right;\n",
       "    }\n",
       "</style>\n",
       "<table border=\"1\" class=\"dataframe\">\n",
       "  <thead>\n",
       "    <tr style=\"text-align: right;\">\n",
       "      <th></th>\n",
       "      <th>headline_category</th>\n",
       "      <th>headline_text</th>\n",
       "    </tr>\n",
       "  </thead>\n",
       "  <tbody>\n",
       "    <tr>\n",
       "      <th>0</th>\n",
       "      <td>india</td>\n",
       "      <td>288541</td>\n",
       "    </tr>\n",
       "    <tr>\n",
       "      <th>1</th>\n",
       "      <td>unknown</td>\n",
       "      <td>209582</td>\n",
       "    </tr>\n",
       "    <tr>\n",
       "      <th>2</th>\n",
       "      <td>city.mumbai</td>\n",
       "      <td>134428</td>\n",
       "    </tr>\n",
       "    <tr>\n",
       "      <th>3</th>\n",
       "      <td>city.delhi</td>\n",
       "      <td>127717</td>\n",
       "    </tr>\n",
       "    <tr>\n",
       "      <th>4</th>\n",
       "      <td>business.india-business</td>\n",
       "      <td>116761</td>\n",
       "    </tr>\n",
       "    <tr>\n",
       "      <th>5</th>\n",
       "      <td>city.chandigarh</td>\n",
       "      <td>110453</td>\n",
       "    </tr>\n",
       "    <tr>\n",
       "      <th>6</th>\n",
       "      <td>city.hyderabad</td>\n",
       "      <td>104692</td>\n",
       "    </tr>\n",
       "    <tr>\n",
       "      <th>7</th>\n",
       "      <td>city.bengaluru</td>\n",
       "      <td>93663</td>\n",
       "    </tr>\n",
       "    <tr>\n",
       "      <th>8</th>\n",
       "      <td>entertainment.hindi.bollywood</td>\n",
       "      <td>91376</td>\n",
       "    </tr>\n",
       "    <tr>\n",
       "      <th>9</th>\n",
       "      <td>city.ahmedabad</td>\n",
       "      <td>89513</td>\n",
       "    </tr>\n",
       "  </tbody>\n",
       "</table>\n",
       "</div>"
      ],
      "text/plain": [
       "               headline_category  headline_text\n",
       "0                          india         288541\n",
       "1                        unknown         209582\n",
       "2                    city.mumbai         134428\n",
       "3                     city.delhi         127717\n",
       "4        business.india-business         116761\n",
       "5                city.chandigarh         110453\n",
       "6                 city.hyderabad         104692\n",
       "7                 city.bengaluru          93663\n",
       "8  entertainment.hindi.bollywood          91376\n",
       "9                 city.ahmedabad          89513"
      ]
     },
     "execution_count": 48,
     "metadata": {},
     "output_type": "execute_result"
    }
   ],
   "source": [
    "categories = news.groupby(['headline_category']).agg({'headline_text':'count'}).sort_values(by='headline_text',ascending = False)\n",
    "news_cat=categories.head(10)\n",
    "news_cat.reset_index(inplace = True)\n",
    "news_cat"
   ]
  },
  {
   "cell_type": "code",
   "execution_count": 49,
   "metadata": {},
   "outputs": [
    {
     "data": {
      "image/png": "[encoded data removed]",
      "text/plain": [
       "<Figure size 1080x360 with 1 Axes>"
      ]
     },
     "metadata": {
      "needs_background": "light"
     },
     "output_type": "display_data"
    }
   ],
   "source": [
    "import matplotlib.colors as mcolors\n",
    "plt.figure(figsize=(15,5))\n",
    "plt.bar(news_cat.headline_category,height= news_cat.headline_text)\n",
    "plt.xlabel('Category')\n",
    "plt.ylabel('Number of articles')\n",
    "plt.title('Top 10 Categories')\n",
    "plt.show()"
   ]
  },
  {
   "cell_type": "code",
   "execution_count": 50,
   "metadata": {},
   "outputs": [
    {
     "data": {
      "text/html": [
       "<div>\n",
       "<style scoped>\n",
       "    .dataframe tbody tr th:only-of-type {\n",
       "        vertical-align: middle;\n",
       "    }\n",
       "\n",
       "    .dataframe tbody tr th {\n",
       "        vertical-align: top;\n",
       "    }\n",
       "\n",
       "    .dataframe thead th {\n",
       "        text-align: right;\n",
       "    }\n",
       "</style>\n",
       "<table border=\"1\" class=\"dataframe\">\n",
       "  <thead>\n",
       "    <tr style=\"text-align: right;\">\n",
       "      <th></th>\n",
       "      <th>publish_date</th>\n",
       "      <th>headline_text</th>\n",
       "    </tr>\n",
       "  </thead>\n",
       "  <tbody>\n",
       "    <tr>\n",
       "      <th>0</th>\n",
       "      <td>2001-01-02</td>\n",
       "      <td>Status quo will not be disturbed at Ayodhya; s...</td>\n",
       "    </tr>\n",
       "    <tr>\n",
       "      <th>1</th>\n",
       "      <td>2001-01-02</td>\n",
       "      <td>Fissures in Hurriyat over Pak visit</td>\n",
       "    </tr>\n",
       "    <tr>\n",
       "      <th>2</th>\n",
       "      <td>2001-01-02</td>\n",
       "      <td>America's unwanted heading for India?</td>\n",
       "    </tr>\n",
       "    <tr>\n",
       "      <th>3</th>\n",
       "      <td>2001-01-02</td>\n",
       "      <td>For bigwigs; it is destination Goa</td>\n",
       "    </tr>\n",
       "    <tr>\n",
       "      <th>4</th>\n",
       "      <td>2001-01-02</td>\n",
       "      <td>Extra buses to clear tourist traffic</td>\n",
       "    </tr>\n",
       "    <tr>\n",
       "      <th>...</th>\n",
       "      <td>...</td>\n",
       "      <td>...</td>\n",
       "    </tr>\n",
       "    <tr>\n",
       "      <th>3424057</th>\n",
       "      <td>2020-12-31</td>\n",
       "      <td>50 NRIs reach Singhu; offer help to farmers</td>\n",
       "    </tr>\n",
       "    <tr>\n",
       "      <th>3424058</th>\n",
       "      <td>2020-12-31</td>\n",
       "      <td>Navjot Singh Sidhu tweets apology; says 'wore ...</td>\n",
       "    </tr>\n",
       "    <tr>\n",
       "      <th>3424059</th>\n",
       "      <td>2020-12-31</td>\n",
       "      <td>Azim Premji organisation's name misused to che...</td>\n",
       "    </tr>\n",
       "    <tr>\n",
       "      <th>3424060</th>\n",
       "      <td>2020-12-31</td>\n",
       "      <td>Get govt nod to probe officials: MP to agencies</td>\n",
       "    </tr>\n",
       "    <tr>\n",
       "      <th>3424061</th>\n",
       "      <td>2020-12-31</td>\n",
       "      <td>Peddler nabbed; 10kg ganja seized in Anantapur...</td>\n",
       "    </tr>\n",
       "  </tbody>\n",
       "</table>\n",
       "<p>3424062 rows × 2 columns</p>\n",
       "</div>"
      ],
      "text/plain": [
       "        publish_date                                      headline_text\n",
       "0         2001-01-02  Status quo will not be disturbed at Ayodhya; s...\n",
       "1         2001-01-02                Fissures in Hurriyat over Pak visit\n",
       "2         2001-01-02              America's unwanted heading for India?\n",
       "3         2001-01-02                 For bigwigs; it is destination Goa\n",
       "4         2001-01-02               Extra buses to clear tourist traffic\n",
       "...              ...                                                ...\n",
       "3424057   2020-12-31        50 NRIs reach Singhu; offer help to farmers\n",
       "3424058   2020-12-31  Navjot Singh Sidhu tweets apology; says 'wore ...\n",
       "3424059   2020-12-31  Azim Premji organisation's name misused to che...\n",
       "3424060   2020-12-31    Get govt nod to probe officials: MP to agencies\n",
       "3424061   2020-12-31  Peddler nabbed; 10kg ganja seized in Anantapur...\n",
       "\n",
       "[3424062 rows x 2 columns]"
      ]
     },
     "execution_count": 50,
     "metadata": {},
     "output_type": "execute_result"
    }
   ],
   "source": [
    "news.drop('headline_category', inplace  = True, axis =1)\n",
    "news.head(-5)"
   ]
  },
  {
   "cell_type": "markdown",
   "metadata": {},
   "source": [
    "### Hybrid modelling by combining Stocks data and news data"
   ]
  },
  {
   "cell_type": "code",
   "execution_count": 51,
   "metadata": {},
   "outputs": [],
   "source": [
    "news.rename(columns = {'publish_date':'Date'}, inplace = True)"
   ]
  },
  {
   "cell_type": "code",
   "execution_count": 52,
   "metadata": {},
   "outputs": [
    {
     "data": {
      "text/html": [
       "<div>\n",
       "<style scoped>\n",
       "    .dataframe tbody tr th:only-of-type {\n",
       "        vertical-align: middle;\n",
       "    }\n",
       "\n",
       "    .dataframe tbody tr th {\n",
       "        vertical-align: top;\n",
       "    }\n",
       "\n",
       "    .dataframe thead th {\n",
       "        text-align: right;\n",
       "    }\n",
       "</style>\n",
       "<table border=\"1\" class=\"dataframe\">\n",
       "  <thead>\n",
       "    <tr style=\"text-align: right;\">\n",
       "      <th></th>\n",
       "      <th>Date</th>\n",
       "      <th>High</th>\n",
       "      <th>Low</th>\n",
       "      <th>Open</th>\n",
       "      <th>Close</th>\n",
       "      <th>Volume</th>\n",
       "      <th>Adj Close</th>\n",
       "      <th>headline_text</th>\n",
       "    </tr>\n",
       "  </thead>\n",
       "  <tbody>\n",
       "    <tr>\n",
       "      <th>0</th>\n",
       "      <td>2010-01-04</td>\n",
       "      <td>7.660714</td>\n",
       "      <td>7.585000</td>\n",
       "      <td>7.622500</td>\n",
       "      <td>7.643214</td>\n",
       "      <td>493729600.0</td>\n",
       "      <td>6.562591</td>\n",
       "      <td>Bebo Khan't stop loving</td>\n",
       "    </tr>\n",
       "    <tr>\n",
       "      <th>1</th>\n",
       "      <td>2010-01-04</td>\n",
       "      <td>7.660714</td>\n",
       "      <td>7.585000</td>\n",
       "      <td>7.622500</td>\n",
       "      <td>7.643214</td>\n",
       "      <td>493729600.0</td>\n",
       "      <td>6.562591</td>\n",
       "      <td>Chor Bazaari top song of 2009</td>\n",
       "    </tr>\n",
       "    <tr>\n",
       "      <th>2</th>\n",
       "      <td>2010-01-04</td>\n",
       "      <td>7.660714</td>\n",
       "      <td>7.585000</td>\n",
       "      <td>7.622500</td>\n",
       "      <td>7.643214</td>\n",
       "      <td>493729600.0</td>\n",
       "      <td>6.562591</td>\n",
       "      <td>2010...movies; magic 'n' more!</td>\n",
       "    </tr>\n",
       "    <tr>\n",
       "      <th>3</th>\n",
       "      <td>2010-01-04</td>\n",
       "      <td>7.660714</td>\n",
       "      <td>7.585000</td>\n",
       "      <td>7.622500</td>\n",
       "      <td>7.643214</td>\n",
       "      <td>493729600.0</td>\n",
       "      <td>6.562591</td>\n",
       "      <td>Ministers; Bollywood and cricket!</td>\n",
       "    </tr>\n",
       "    <tr>\n",
       "      <th>4</th>\n",
       "      <td>2010-01-04</td>\n",
       "      <td>7.660714</td>\n",
       "      <td>7.585000</td>\n",
       "      <td>7.622500</td>\n",
       "      <td>7.643214</td>\n",
       "      <td>493729600.0</td>\n",
       "      <td>6.562591</td>\n",
       "      <td>Shabana gives a mind-blowing performance!</td>\n",
       "    </tr>\n",
       "    <tr>\n",
       "      <th>...</th>\n",
       "      <td>...</td>\n",
       "      <td>...</td>\n",
       "      <td>...</td>\n",
       "      <td>...</td>\n",
       "      <td>...</td>\n",
       "      <td>...</td>\n",
       "      <td>...</td>\n",
       "      <td>...</td>\n",
       "    </tr>\n",
       "    <tr>\n",
       "      <th>1767061</th>\n",
       "      <td>2020-12-31</td>\n",
       "      <td>134.740005</td>\n",
       "      <td>131.720001</td>\n",
       "      <td>134.080002</td>\n",
       "      <td>132.690002</td>\n",
       "      <td>99116600.0</td>\n",
       "      <td>132.069473</td>\n",
       "      <td>50 NRIs reach Singhu; offer help to farmers</td>\n",
       "    </tr>\n",
       "    <tr>\n",
       "      <th>1767062</th>\n",
       "      <td>2020-12-31</td>\n",
       "      <td>134.740005</td>\n",
       "      <td>131.720001</td>\n",
       "      <td>134.080002</td>\n",
       "      <td>132.690002</td>\n",
       "      <td>99116600.0</td>\n",
       "      <td>132.069473</td>\n",
       "      <td>Navjot Singh Sidhu tweets apology; says 'wore ...</td>\n",
       "    </tr>\n",
       "    <tr>\n",
       "      <th>1767063</th>\n",
       "      <td>2020-12-31</td>\n",
       "      <td>134.740005</td>\n",
       "      <td>131.720001</td>\n",
       "      <td>134.080002</td>\n",
       "      <td>132.690002</td>\n",
       "      <td>99116600.0</td>\n",
       "      <td>132.069473</td>\n",
       "      <td>Azim Premji organisation's name misused to che...</td>\n",
       "    </tr>\n",
       "    <tr>\n",
       "      <th>1767064</th>\n",
       "      <td>2020-12-31</td>\n",
       "      <td>134.740005</td>\n",
       "      <td>131.720001</td>\n",
       "      <td>134.080002</td>\n",
       "      <td>132.690002</td>\n",
       "      <td>99116600.0</td>\n",
       "      <td>132.069473</td>\n",
       "      <td>Get govt nod to probe officials: MP to agencies</td>\n",
       "    </tr>\n",
       "    <tr>\n",
       "      <th>1767065</th>\n",
       "      <td>2020-12-31</td>\n",
       "      <td>134.740005</td>\n",
       "      <td>131.720001</td>\n",
       "      <td>134.080002</td>\n",
       "      <td>132.690002</td>\n",
       "      <td>99116600.0</td>\n",
       "      <td>132.069473</td>\n",
       "      <td>Peddler nabbed; 10kg ganja seized in Anantapur...</td>\n",
       "    </tr>\n",
       "  </tbody>\n",
       "</table>\n",
       "<p>1767066 rows × 8 columns</p>\n",
       "</div>"
      ],
      "text/plain": [
       "              Date        High         Low        Open       Close  \\\n",
       "0       2010-01-04    7.660714    7.585000    7.622500    7.643214   \n",
       "1       2010-01-04    7.660714    7.585000    7.622500    7.643214   \n",
       "2       2010-01-04    7.660714    7.585000    7.622500    7.643214   \n",
       "3       2010-01-04    7.660714    7.585000    7.622500    7.643214   \n",
       "4       2010-01-04    7.660714    7.585000    7.622500    7.643214   \n",
       "...            ...         ...         ...         ...         ...   \n",
       "1767061 2020-12-31  134.740005  131.720001  134.080002  132.690002   \n",
       "1767062 2020-12-31  134.740005  131.720001  134.080002  132.690002   \n",
       "1767063 2020-12-31  134.740005  131.720001  134.080002  132.690002   \n",
       "1767064 2020-12-31  134.740005  131.720001  134.080002  132.690002   \n",
       "1767065 2020-12-31  134.740005  131.720001  134.080002  132.690002   \n",
       "\n",
       "              Volume   Adj Close  \\\n",
       "0        493729600.0    6.562591   \n",
       "1        493729600.0    6.562591   \n",
       "2        493729600.0    6.562591   \n",
       "3        493729600.0    6.562591   \n",
       "4        493729600.0    6.562591   \n",
       "...              ...         ...   \n",
       "1767061   99116600.0  132.069473   \n",
       "1767062   99116600.0  132.069473   \n",
       "1767063   99116600.0  132.069473   \n",
       "1767064   99116600.0  132.069473   \n",
       "1767065   99116600.0  132.069473   \n",
       "\n",
       "                                             headline_text  \n",
       "0                                  Bebo Khan't stop loving  \n",
       "1                            Chor Bazaari top song of 2009  \n",
       "2                           2010...movies; magic 'n' more!  \n",
       "3                        Ministers; Bollywood and cricket!  \n",
       "4                Shabana gives a mind-blowing performance!  \n",
       "...                                                    ...  \n",
       "1767061        50 NRIs reach Singhu; offer help to farmers  \n",
       "1767062  Navjot Singh Sidhu tweets apology; says 'wore ...  \n",
       "1767063  Azim Premji organisation's name misused to che...  \n",
       "1767064    Get govt nod to probe officials: MP to agencies  \n",
       "1767065  Peddler nabbed; 10kg ganja seized in Anantapur...  \n",
       "\n",
       "[1767066 rows x 8 columns]"
      ]
     },
     "execution_count": 52,
     "metadata": {},
     "output_type": "execute_result"
    }
   ],
   "source": [
    "df1 = pd.merge(stocks, news, how='inner', on=['Date'])\n",
    "df1.head(-5)"
   ]
  }
 ],
 "metadata": {
  "kernelspec": {
   "display_name": "Python 3",
   "language": "python",
   "name": "python3"
  },
  "language_info": {
   "codemirror_mode": {
    "name": "ipython",
    "version": 3
   },
   "file_extension": ".py",
   "mimetype": "text/x-python",
   "name": "python",
   "nbconvert_exporter": "python",
   "pygments_lexer": "ipython3",
   "version": "3.7.8"
  }
 },
 "nbformat": 4,
 "nbformat_minor": 4
}
